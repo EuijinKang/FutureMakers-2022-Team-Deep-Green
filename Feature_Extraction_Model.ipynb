{
  "cells": [
    {
      "cell_type": "markdown",
      "metadata": {
        "id": "view-in-github",
        "colab_type": "text"
      },
      "source": [
        "<a href=\"https://colab.research.google.com/github/parkerallan/FutureMakers-2022-Team-Deep-Green/blob/master/Data_and_Models.ipynb\" target=\"_parent\"><img src=\"https://colab.research.google.com/assets/colab-badge.svg\" alt=\"Open In Colab\"/></a>"
      ]
    },
    {
      "cell_type": "code",
      "execution_count": null,
      "metadata": {
        "id": "2vTvIjkB9hB-"
      },
      "outputs": [],
      "source": [
        "# Clearing backend\n",
        "from tensorflow.keras import backend\n",
        "backend.clear_session()"
      ]
    },
    {
      "cell_type": "markdown",
      "metadata": {
        "id": "89zwr8t3hUIQ"
      },
      "source": [
        "## Data Processing"
      ]
    },
    {
      "cell_type": "code",
      "execution_count": null,
      "metadata": {
        "colab": {
          "base_uri": "https://localhost:8080/"
        },
        "id": "fCp9jfvzG8cb",
        "outputId": "14039ebc-6138-4d94-9097-5e16714a9c64"
      },
      "outputs": [
        {
          "name": "stdout",
          "output_type": "stream",
          "text": [
            "Looking in indexes: https://pypi.org/simple, https://us-python.pkg.dev/colab-wheels/public/simple/\n",
            "Requirement already satisfied: kaggle in /usr/local/lib/python3.7/dist-packages (1.5.12)\n",
            "Requirement already satisfied: urllib3 in /usr/local/lib/python3.7/dist-packages (from kaggle) (1.24.3)\n",
            "Requirement already satisfied: certifi in /usr/local/lib/python3.7/dist-packages (from kaggle) (2022.6.15)\n",
            "Requirement already satisfied: tqdm in /usr/local/lib/python3.7/dist-packages (from kaggle) (4.64.0)\n",
            "Requirement already satisfied: six>=1.10 in /usr/local/lib/python3.7/dist-packages (from kaggle) (1.15.0)\n",
            "Requirement already satisfied: python-slugify in /usr/local/lib/python3.7/dist-packages (from kaggle) (6.1.2)\n",
            "Requirement already satisfied: requests in /usr/local/lib/python3.7/dist-packages (from kaggle) (2.23.0)\n",
            "Requirement already satisfied: python-dateutil in /usr/local/lib/python3.7/dist-packages (from kaggle) (2.8.2)\n",
            "Requirement already satisfied: text-unidecode>=1.3 in /usr/local/lib/python3.7/dist-packages (from python-slugify->kaggle) (1.3)\n",
            "Requirement already satisfied: idna<3,>=2.5 in /usr/local/lib/python3.7/dist-packages (from requests->kaggle) (2.10)\n",
            "Requirement already satisfied: chardet<4,>=3.0.2 in /usr/local/lib/python3.7/dist-packages (from requests->kaggle) (3.0.4)\n",
            "mkdir: cannot create directory ‘/root/.kaggle’: File exists\n",
            "next-day-wildfire-spread.zip: Skipping, found more recently modified local copy (use --force to force download)\n"
          ]
        }
      ],
      "source": [
        "import re\n",
        "from typing import Dict, List, Optional, Text, Tuple\n",
        "import matplotlib.pyplot as plt\n",
        "from matplotlib import colors\n",
        "import numpy as np\n",
        "import tensorflow as tf\n",
        "from tensorflow import keras\n",
        "from tensorflow.keras import layers\n",
        "from tensorflow.keras import *\n",
        "# run these commands in linux terminal and add kaggle.json api from account page\n",
        "! pip install kaggle\n",
        "! mkdir ~/.kaggle\n",
        "! cp kaggle.json ~/.kaggle/\n",
        "\n",
        "! chmod 600 ~/.kaggle/kaggle.json\n",
        "! kaggle datasets download fantineh/next-day-wildfire-spread\n"
      ]
    },
    {
      "cell_type": "code",
      "execution_count": null,
      "metadata": {
        "colab": {
          "background_save": true,
          "base_uri": "https://localhost:8080/"
        },
        "id": "UTjr8ObrTeNG",
        "outputId": "48a71601-9b38-4791-fb8b-21c02cc748aa"
      },
      "outputs": [
        {
          "name": "stdout",
          "output_type": "stream",
          "text": [
            "Archive:  next-day-wildfire-spread.zip\n",
            "replace next_day_wildfire_spread_eval_00.tfrecord? [y]es, [n]o, [A]ll, [N]one, [r]ename: "
          ]
        }
      ],
      "source": [
        "!unzip next-day-wildfire-spread.zip"
      ]
    },
    {
      "cell_type": "code",
      "execution_count": null,
      "metadata": {
        "colab": {
          "background_save": true
        },
        "id": "UfEdraeKSlyh"
      },
      "outputs": [],
      "source": [
        "train_data = '/content/next_day_wildfire_spread_train_*'\n",
        "test_data = '/content/next_day_wildfire_spread_test_*'"
      ]
    },
    {
      "cell_type": "code",
      "execution_count": null,
      "metadata": {
        "colab": {
          "background_save": true
        },
        "id": "w3wL41YHHFxf"
      },
      "outputs": [],
      "source": [
        "\"\"\"Constants for the data reader.\"\"\"\n",
        "\n",
        "INPUT_FEATURES = ['elevation', 'th', 'vs',  'tmmn', 'tmmx', 'sph', \n",
        "                  'pr', 'pdsi', 'NDVI', 'population', 'erc', 'PrevFireMask']\n",
        "\n",
        "OUTPUT_FEATURES = ['FireMask', ]\n",
        "\n",
        "# Data statistics \n",
        "# For each variable, the statistics are ordered in the form:\n",
        "# (min_clip, max_clip, mean, standard deviation)\n",
        "DATA_STATS = {\n",
        "    # Elevation in m.\n",
        "    # 0.1 percentile, 99.9 percentile\n",
        "    'elevation': (0.0, 3141.0, 657.3003, 649.0147),\n",
        "    # Pressure\n",
        "    # 0.1 percentile, 99.9 percentile\n",
        "    'pdsi': (-6.12974870967865, 7.876040384292651, -0.0052714925, 2.6823447),\n",
        "    'NDVI': (-9821.0, 9996.0, 5157.625, 2466.6677),  # min, max\n",
        "    # Precipitation in mm.\n",
        "    # Negative values do not make sense, so min is set to 0.\n",
        "    # 0., 99.9 percentile\n",
        "    'pr': (0.0, 44.53038024902344, 1.7398051, 4.482833),\n",
        "    # Specific humidity.\n",
        "    # Negative values do not make sense, so min is set to 0.\n",
        "    # The range of specific humidity is up to 100% so max is 1.\n",
        "    'sph': (0., 1., 0.0071658953, 0.0042835088),\n",
        "    # Wind direction in degrees clockwise from north.\n",
        "    # Thus min set to 0 and max set to 360.\n",
        "    'th': (0., 360.0, 190.32976, 72.59854),\n",
        "    # Min/max temperature in Kelvin.\n",
        "    # -20 degree C, 99.9 percentile\n",
        "    'tmmn': (253.15, 298.94891357421875, 281.08768, 8.982386),\n",
        "    # -20 degree C, 99.9 percentile\n",
        "    'tmmx': (253.15, 315.09228515625, 295.17383, 9.815496),\n",
        "    # Wind speed in m/s.\n",
        "    # Negative values do not make sense, given there is a wind direction.\n",
        "    # 0., 99.9 percentile\n",
        "    'vs': (0.0, 10.024310074806237, 3.8500874, 1.4109988),\n",
        "    # NFDRS fire danger index energy release component expressed in BTU's per\n",
        "    # square foot.\n",
        "    # Negative values do not make sense. Thus min set to zero.\n",
        "    # 0., 99.9 percentile\n",
        "    'erc': (0.0, 106.24891662597656, 37.326267, 20.846027),\n",
        "    # Population density\n",
        "    # min, 99.9 percentile\n",
        "    'population': (0., 2534.06298828125, 25.531384, 154.72331),\n",
        "    # We don't want to normalize the FireMasks.\n",
        "    # 1 indicates fire, 0 no fire, -1 unlabeled data\n",
        "    'PrevFireMask': (-1., 1., 0., 1.),\n",
        "    'FireMask': (-1., 1., 0., 1.)\n",
        "}"
      ]
    },
    {
      "cell_type": "code",
      "execution_count": null,
      "metadata": {
        "colab": {
          "background_save": true
        },
        "id": "lrCIFDZJHGLu"
      },
      "outputs": [],
      "source": [
        "\"\"\"Library of common functions used in deep learning neural networks.\n",
        "\"\"\"\n",
        "def random_crop_input_and_output_images(\n",
        "    input_img: tf.Tensor,\n",
        "    output_img: tf.Tensor,\n",
        "    sample_size: int,\n",
        "    num_in_channels: int,\n",
        "    num_out_channels: int,\n",
        ") -> Tuple[tf.Tensor, tf.Tensor]:\n",
        "  \"\"\"Randomly axis-align crop input and output image tensors.\n",
        "\n",
        "  Args:\n",
        "    input_img: tensor with dimensions HWC.\n",
        "    output_img: tensor with dimensions HWC.\n",
        "    sample_size: side length (square) to crop to.\n",
        "    num_in_channels: number of channels in input_img.\n",
        "    num_out_channels: number of channels in output_img.\n",
        "  Returns:\n",
        "    input_img: tensor with dimensions HWC.\n",
        "    output_img: tensor with dimensions HWC.\n",
        "  \"\"\"\n",
        "  combined = tf.concat([input_img, output_img], axis=2)\n",
        "  combined = tf.image.random_crop(\n",
        "      combined,\n",
        "      [sample_size, sample_size, num_in_channels + num_out_channels])\n",
        "  input_img = combined[:, :, 0:num_in_channels]\n",
        "  output_img = combined[:, :, -num_out_channels:]\n",
        "  return input_img, output_img\n",
        "\n",
        "\n",
        "def center_crop_input_and_output_images(\n",
        "    input_img: tf.Tensor,\n",
        "    output_img: tf.Tensor,\n",
        "    sample_size: int,\n",
        ") -> Tuple[tf.Tensor, tf.Tensor]:\n",
        "  \"\"\"Center crops input and output image tensors.\n",
        "\n",
        "  Args:\n",
        "    input_img: tensor with dimensions HWC.\n",
        "    output_img: tensor with dimensions HWC.\n",
        "    sample_size: side length (square) to crop to.\n",
        "  Returns:\n",
        "    input_img: tensor with dimensions HWC.\n",
        "    output_img: tensor with dimensions HWC.\n",
        "  \"\"\"\n",
        "  central_fraction = sample_size / input_img.shape[0]\n",
        "  input_img = tf.image.central_crop(input_img, central_fraction)\n",
        "  output_img = tf.image.central_crop(output_img, central_fraction)\n",
        "  return input_img, output_img"
      ]
    },
    {
      "cell_type": "code",
      "execution_count": null,
      "metadata": {
        "colab": {
          "background_save": true
        },
        "id": "j2UFH5wUHN3h"
      },
      "outputs": [],
      "source": [
        "\"\"\"Dataset reader for Earth Engine data.\"\"\"\n",
        "\n",
        "def _get_base_key(key: Text) -> Text:\n",
        "  \"\"\"Extracts the base key from the provided key.\n",
        "\n",
        "  Earth Engine exports TFRecords containing each data variable with its\n",
        "  corresponding variable name. In the case of time sequences, the name of the\n",
        "  data variable is of the form 'variable_1', 'variable_2', ..., 'variable_n',\n",
        "  where 'variable' is the name of the variable, and n the number of elements\n",
        "  in the time sequence. Extracting the base key ensures that each step of the\n",
        "  time sequence goes through the same normalization steps.\n",
        "  The base key obeys the following naming pattern: '([a-zA-Z]+)'\n",
        "  For instance, for an input key 'variable_1', this function returns 'variable'.\n",
        "  For an input key 'variable', this function simply returns 'variable'.\n",
        "\n",
        "  Args:\n",
        "    key: Input key.\n",
        "\n",
        "  Returns:\n",
        "    The corresponding base key.\n",
        "\n",
        "  Raises:\n",
        "    ValueError when `key` does not match the expected pattern.\n",
        "  \"\"\"\n",
        "  match = re.match(r'([a-zA-Z]+)', key)\n",
        "  if match:\n",
        "    return match.group(1)\n",
        "  raise ValueError(\n",
        "      'The provided key does not match the expected pattern: {}'.format(key))\n",
        "\n",
        "\n",
        "def _clip_and_rescale(inputs: tf.Tensor, key: Text) -> tf.Tensor:\n",
        "  \"\"\"Clips and rescales inputs with the stats corresponding to `key`.\n",
        "\n",
        "  Args:\n",
        "    inputs: Inputs to clip and rescale.\n",
        "    key: Key describing the inputs.\n",
        "\n",
        "  Returns:\n",
        "    Clipped and rescaled input.\n",
        "\n",
        "  Raises:\n",
        "    ValueError if there are no data statistics available for `key`.\n",
        "  \"\"\"\n",
        "  base_key = _get_base_key(key)\n",
        "  if base_key not in DATA_STATS:\n",
        "    raise ValueError(\n",
        "        'No data statistics available for the requested key: {}.'.format(key))\n",
        "  min_val, max_val, _, _ = DATA_STATS[base_key]\n",
        "  inputs = tf.clip_by_value(inputs, min_val, max_val)\n",
        "  return tf.math.divide_no_nan((inputs - min_val), (max_val - min_val))\n",
        "\n",
        "\n",
        "def _clip_and_normalize(inputs: tf.Tensor, key: Text) -> tf.Tensor:\n",
        "  \"\"\"Clips and normalizes inputs with the stats corresponding to `key`.\n",
        "\n",
        "  Args:\n",
        "    inputs: Inputs to clip and normalize.\n",
        "    key: Key describing the inputs.\n",
        "\n",
        "  Returns:\n",
        "    Clipped and normalized input.\n",
        "\n",
        "  Raises:\n",
        "    ValueError if there are no data statistics available for `key`.\n",
        "  \"\"\"\n",
        "  base_key = _get_base_key(key)\n",
        "  if base_key not in DATA_STATS:\n",
        "    raise ValueError(\n",
        "        'No data statistics available for the requested key: {}.'.format(key))\n",
        "  min_val, max_val, mean, std = DATA_STATS[base_key]\n",
        "  inputs = tf.clip_by_value(inputs, min_val, max_val)\n",
        "  inputs = inputs - mean\n",
        "  return tf.math.divide_no_nan(inputs, std)\n",
        "\n",
        "def _get_features_dict(\n",
        "    sample_size: int,\n",
        "    features: List[Text],\n",
        ") -> Dict[Text, tf.io.FixedLenFeature]:\n",
        "  \"\"\"Creates a features dictionary for TensorFlow IO.\n",
        "\n",
        "  Args:\n",
        "    sample_size: Size of the input tiles (square).\n",
        "    features: List of feature names.\n",
        "\n",
        "  Returns:\n",
        "    A features dictionary for TensorFlow IO.\n",
        "  \"\"\"\n",
        "  sample_shape = [sample_size, sample_size]\n",
        "  features = set(features)\n",
        "  columns = [\n",
        "      tf.io.FixedLenFeature(shape=sample_shape, dtype=tf.float32)\n",
        "      for _ in features\n",
        "  ]\n",
        "  return dict(zip(features, columns))\n",
        "\n",
        "\n",
        "def _parse_fn(\n",
        "    example_proto: tf.train.Example, data_size: int, sample_size: int,\n",
        "    num_in_channels: int, clip_and_normalize: bool,\n",
        "    clip_and_rescale: bool, random_crop: bool, center_crop: bool,\n",
        ") -> Tuple[tf.Tensor, tf.Tensor]:\n",
        "  \"\"\"Reads a serialized example.\n",
        "\n",
        "  Args:\n",
        "    example_proto: A TensorFlow example protobuf.\n",
        "    data_size: Size of tiles (square) as read from input files.\n",
        "    sample_size: Size the tiles (square) when input into the model.\n",
        "    num_in_channels: Number of input channels.\n",
        "    clip_and_normalize: True if the data should be clipped and normalized.\n",
        "    clip_and_rescale: True if the data should be clipped and rescaled.\n",
        "    random_crop: True if the data should be randomly cropped.\n",
        "    center_crop: True if the data should be cropped in the center.\n",
        "\n",
        "  Returns:\n",
        "    (input_img, output_img) tuple of inputs and outputs to the ML model.\n",
        "  \"\"\"\n",
        "  if (random_crop and center_crop):\n",
        "    raise ValueError('Cannot have both random_crop and center_crop be True')\n",
        "  input_features, output_features = INPUT_FEATURES, OUTPUT_FEATURES\n",
        "  feature_names = input_features + output_features\n",
        "  features_dict = _get_features_dict(data_size, feature_names)\n",
        "  features = tf.io.parse_single_example(example_proto, features_dict)\n",
        "\n",
        "  if clip_and_normalize:\n",
        "    inputs_list = [\n",
        "        _clip_and_normalize(features.get(key), key) for key in input_features\n",
        "    ]\n",
        "  elif clip_and_rescale:\n",
        "    inputs_list = [\n",
        "        _clip_and_rescale(features.get(key), key) for key in input_features\n",
        "    ]\n",
        "  else:\n",
        "    inputs_list = [features.get(key) for key in input_features]\n",
        "  \n",
        "  inputs_stacked = tf.stack(inputs_list, axis=0)\n",
        "  input_img = tf.transpose(inputs_stacked, [1, 2, 0])\n",
        "\n",
        "  outputs_list = [features.get(key) for key in output_features]\n",
        "  assert outputs_list, 'outputs_list should not be empty'\n",
        "  outputs_stacked = tf.stack(outputs_list, axis=0)\n",
        "\n",
        "  outputs_stacked_shape = outputs_stacked.get_shape().as_list()\n",
        "  assert len(outputs_stacked.shape) == 3, ('outputs_stacked should be rank 3'\n",
        "                                            'but dimensions of outputs_stacked'\n",
        "                                            f' are {outputs_stacked_shape}')\n",
        "  output_img = tf.transpose(outputs_stacked, [1, 2, 0])\n",
        "\n",
        "  if random_crop:\n",
        "    input_img, output_img = random_crop_input_and_output_images(\n",
        "        input_img, output_img, sample_size, num_in_channels, 1)\n",
        "  if center_crop:\n",
        "    input_img, output_img = center_crop_input_and_output_images(\n",
        "        input_img, output_img, sample_size)\n",
        "  return input_img, output_img\n",
        "\n",
        "\n",
        "def get_dataset(train_data: Text, data_size: int, sample_size: int,\n",
        "                batch_size: int, num_in_channels: int, compression_type: Text,\n",
        "                clip_and_normalize: bool, clip_and_rescale: bool,\n",
        "                random_crop: bool, center_crop: bool) -> tf.data.Dataset:\n",
        "  \"\"\"Gets the dataset from the file pattern.\n",
        "\n",
        "  Args:\n",
        "    train_data: Input file pattern.\n",
        "    data_size: Size of tiles (square) as read from input files.\n",
        "    sample_size: Size the tiles (square) when input into the model.\n",
        "    batch_size: Batch size.\n",
        "    num_in_channels: Number of input channels.\n",
        "    compression_type: Type of compression used for the input files.\n",
        "    clip_and_normalize: True if the data should be clipped and normalized, False\n",
        "      otherwise.\n",
        "    clip_and_rescale: True if the data should be clipped and rescaled, False\n",
        "      otherwise.\n",
        "    random_crop: True if the data should be randomly cropped.\n",
        "    center_crop: True if the data shoulde be cropped in the center.\n",
        "\n",
        "  Returns:\n",
        "    A TensorFlow dataset loaded from the input file pattern, with features\n",
        "    described in the constants, and with the shapes determined from the input\n",
        "    parameters to this function.\n",
        "  \"\"\"\n",
        "  if (clip_and_normalize and clip_and_rescale):\n",
        "    raise ValueError('Cannot have both normalize and rescale.')\n",
        "  dataset = tf.data.Dataset.list_files(train_data)\n",
        "  dataset = dataset.interleave(\n",
        "      lambda x: tf.data.TFRecordDataset(x, compression_type=compression_type),\n",
        "      num_parallel_calls=tf.data.experimental.AUTOTUNE)\n",
        "  dataset = dataset.prefetch(buffer_size=tf.data.experimental.AUTOTUNE)\n",
        "  dataset = dataset.map(\n",
        "      lambda x: _parse_fn(  # pylint: disable=g-long-lambda\n",
        "          x, data_size, sample_size, num_in_channels, clip_and_normalize,\n",
        "          clip_and_rescale, random_crop, center_crop),\n",
        "      num_parallel_calls=tf.data.experimental.AUTOTUNE)\n",
        "  dataset = dataset.batch(batch_size)\n",
        "  dataset = dataset.prefetch(buffer_size=tf.data.experimental.AUTOTUNE)\n",
        "  return dataset"
      ]
    },
    {
      "cell_type": "markdown",
      "metadata": {
        "id": "cVdrBxS4hPxN"
      },
      "source": [
        "### Data Visualizations"
      ]
    },
    {
      "cell_type": "code",
      "execution_count": null,
      "metadata": {
        "colab": {
          "background_save": true
        },
        "id": "jTcQPZHEHYis"
      },
      "outputs": [],
      "source": [
        "train_batch = 13200\n",
        "test_batch = 2400\n",
        "\n",
        "dataset = get_dataset(\n",
        "      train_data,\n",
        "      data_size=64,\n",
        "      sample_size=32,\n",
        "      batch_size=train_batch,\n",
        "      num_in_channels=12,\n",
        "      compression_type=None,\n",
        "      clip_and_normalize=False,\n",
        "      clip_and_rescale=False,\n",
        "      random_crop=True,\n",
        "      center_crop=False)\n",
        "test_dataset = get_dataset(\n",
        "      test_data,\n",
        "      data_size=64,\n",
        "      sample_size=32,\n",
        "      batch_size=test_batch,\n",
        "      num_in_channels=12,\n",
        "      compression_type=None,\n",
        "      clip_and_normalize=False,\n",
        "      clip_and_rescale=False,\n",
        "      random_crop=True,\n",
        "      center_crop=False)"
      ]
    },
    {
      "cell_type": "code",
      "execution_count": null,
      "metadata": {
        "colab": {
          "background_save": true
        },
        "id": "BCpQk9NDHaxs"
      },
      "outputs": [],
      "source": [
        "inputs, labels = next(iter(dataset))\n",
        "x_test, y_test = next(iter(test_dataset))"
      ]
    },
    {
      "cell_type": "code",
      "execution_count": null,
      "metadata": {
        "colab": {
          "background_save": true
        },
        "id": "RqVLLJb2HbMY"
      },
      "outputs": [],
      "source": [
        "TITLES = [\n",
        "  'Elevation',\n",
        "  'Wind\\ndirection',\n",
        "  'Wind\\nvelocity',\n",
        "  'Min\\ntemp',\n",
        "  'Max\\ntemp',\n",
        "  'Humidity',\n",
        "  'Precip',\n",
        "  'Drought',\n",
        "  'Vegetation',\n",
        "  'Population\\ndensity',\n",
        "  'Energy\\nrelease\\ncomponent',\n",
        "  'Previous\\nfire\\nmask',\n",
        "  'Fire\\nmask'\n",
        "]"
      ]
    },
    {
      "cell_type": "code",
      "execution_count": null,
      "metadata": {
        "colab": {
          "background_save": true,
          "base_uri": "https://localhost:8080/"
        },
        "id": "1N5WH2s9Ohfj",
        "outputId": "cf21ea20-676e-4db2-b6d9-89564b9e6eb1"
      },
      "outputs": [
        {
          "name": "stdout",
          "output_type": "stream",
          "text": [
            "tf.Tensor(0.0, shape=(), dtype=float32)\n"
          ]
        }
      ],
      "source": [
        "print(inputs[0][0][0][11])"
      ]
    },
    {
      "cell_type": "code",
      "execution_count": null,
      "metadata": {
        "colab": {
          "background_save": true,
          "base_uri": "https://localhost:8080/"
        },
        "id": "aQ8VloKHfcPV",
        "outputId": "dd7c07b8-d4bb-4b67-8554-f2edff65c0ee"
      },
      "outputs": [
        {
          "data": {
            "text/plain": [
              "<tf.Tensor: shape=(32, 1), dtype=float32, numpy=\n",
              "array([[0.],\n",
              "       [0.],\n",
              "       [0.],\n",
              "       [0.],\n",
              "       [0.],\n",
              "       [0.],\n",
              "       [0.],\n",
              "       [0.],\n",
              "       [0.],\n",
              "       [0.],\n",
              "       [0.],\n",
              "       [0.],\n",
              "       [0.],\n",
              "       [0.],\n",
              "       [0.],\n",
              "       [0.],\n",
              "       [0.],\n",
              "       [0.],\n",
              "       [0.],\n",
              "       [0.],\n",
              "       [0.],\n",
              "       [0.],\n",
              "       [0.],\n",
              "       [0.],\n",
              "       [0.],\n",
              "       [0.],\n",
              "       [0.],\n",
              "       [0.],\n",
              "       [0.],\n",
              "       [0.],\n",
              "       [0.],\n",
              "       [0.]], dtype=float32)>"
            ]
          },
          "execution_count": 62,
          "metadata": {},
          "output_type": "execute_result"
        }
      ],
      "source": [
        "labels[19][2]"
      ]
    },
    {
      "cell_type": "code",
      "execution_count": null,
      "metadata": {
        "colab": {
          "background_save": true
        },
        "id": "XJOG4GLkHdcj"
      },
      "outputs": [],
      "source": [
        "# Number of rows of data samples to plot\n",
        "n_rows = 5 \n",
        "# Number of data variables\n",
        "n_features = inputs.shape[3]\n",
        "# Variables for controllong the color map for the fire masks\n",
        "CMAP = colors.ListedColormap(['black', 'silver', 'orangered'])\n",
        "BOUNDS = [-1, -0.1, 0.001, 1]\n",
        "NORM = colors.BoundaryNorm(BOUNDS, CMAP.N)\n",
        "\n",
        "CMAP_PRED = colors.ListedColormap(['silver', 'orangered'])\n",
        "BOUNDS_PRED = [-1, 0.001, 1]\n",
        "NORM_PRED = colors.BoundaryNorm(BOUNDS, CMAP_PRED.N)"
      ]
    },
    {
      "cell_type": "code",
      "execution_count": null,
      "metadata": {
        "colab": {
          "background_save": true,
          "base_uri": "https://localhost:8080/",
          "height": 304
        },
        "id": "ACuXt4eJlkIn",
        "outputId": "e1652814-9b56-4818-fd9f-49b83ab24ffb"
      },
      "outputs": [
        {
          "data": {
            "text/plain": [
              "array([[0., 0.],\n",
              "       [0., 0.]])"
            ]
          },
          "execution_count": 64,
          "metadata": {},
          "output_type": "execute_result"
        },
        {
          "data": {
            "image/png": "[encoded data removed]",
            "text/plain": [
              "<Figure size 432x288 with 1 Axes>"
            ]
          },
          "metadata": {},
          "output_type": "display_data"
        }
      ],
      "source": [
        "# Here are the CMAP bounds:\n",
        "# -1 geq black < -0.1\n",
        "# -0.1 geq gray < 0.001\n",
        "# 0.001 geq red leq 1\n",
        "a = 0.\n",
        "arr1 = np.array([[a,a],[a,a]])\n",
        "plt.imshow(arr1,cmap=CMAP,norm=NORM)\n",
        "arr1"
      ]
    },
    {
      "cell_type": "code",
      "execution_count": null,
      "metadata": {
        "colab": {
          "background_save": true,
          "base_uri": "https://localhost:8080/"
        },
        "id": "mkPnwnpuHhOU",
        "outputId": "e33685b9-f980-46b7-e2cb-376011240d32"
      },
      "outputs": [
        {
          "name": "stdout",
          "output_type": "stream",
          "text": [
            "(32, 32)\n",
            "(32, 32)\n",
            "(32, 32)\n",
            "(32, 32)\n",
            "(32, 32)\n"
          ]
        },
        {
          "data": {
            "image/png": "[encoded data removed]",
            "text/plain": [
              "<Figure size 1080x468 with 65 Axes>"
            ]
          },
          "metadata": {},
          "output_type": "display_data"
        }
      ],
      "source": [
        "fig = plt.figure(figsize=(15,6.5))\n",
        "n_rows1 = n_rows\n",
        "n_rows = 5\n",
        "for i in range(n_rows):\n",
        "  for j in range(n_features + 1):\n",
        "    plt.subplot(n_rows, n_features + 1, i * (n_features + 1) + j + 1)\n",
        "    if i == 0:\n",
        "      plt.title(TITLES[j], fontsize=13)\n",
        "    if j < n_features - 1:\n",
        "      plt.imshow(inputs[i, :, :, j], cmap='viridis')\n",
        "    if j == n_features - 1:\n",
        "      plt.imshow(inputs[i, :, :, -1], cmap=CMAP, norm=NORM)\n",
        "      print(inputs[i,:,:,-1].shape)\n",
        "    if j == n_features:\n",
        "      plt.imshow(labels[i, :, :, 0], cmap=CMAP, norm=NORM) \n",
        "    # plt.axis('off')\n",
        "plt.tight_layout()"
      ]
    },
    {
      "cell_type": "code",
      "execution_count": null,
      "metadata": {
        "colab": {
          "background_save": true
        },
        "id": "dlN6RoC_ygTH",
        "outputId": "4c8851b5-b9ca-481c-f443-e926672439ca"
      },
      "outputs": [
        {
          "name": "stdout",
          "output_type": "stream",
          "text": [
            "(32, 32)\n",
            "(32, 32)\n",
            "(32, 32)\n",
            "(32, 32)\n",
            "(32, 32)\n"
          ]
        },
        {
          "data": {
            "image/png": "[encoded data removed]",
            "text/plain": [
              "<Figure size 1080x468 with 65 Axes>"
            ]
          },
          "metadata": {},
          "output_type": "display_data"
        }
      ],
      "source": [
        "fig = plt.figure(figsize=(15,6.5))\n",
        "n_rows1 = n_rows\n",
        "n_rows = 5\n",
        "for i in range(n_rows):\n",
        "  for j in range(n_features + 1):\n",
        "    plt.subplot(n_rows, n_features + 1, i * (n_features + 1) + j + 1)\n",
        "    if i == 0:\n",
        "      plt.title(TITLES[j], fontsize=13)\n",
        "    if j < n_features - 1:\n",
        "      plt.imshow(x_test[i, :, :, j], cmap='viridis')\n",
        "    if j == n_features - 1:\n",
        "      plt.imshow(x_test[i, :, :, -1], cmap=CMAP, norm=NORM)\n",
        "      print(x_test[i,:,:,-1].shape)\n",
        "    if j == n_features:\n",
        "      plt.imshow(y_test[i, :, :, 0], cmap=CMAP, norm=NORM) \n",
        "    # plt.axis('off')\n",
        "plt.tight_layout()"
      ]
    },
    {
      "cell_type": "markdown",
      "metadata": {
        "id": "t1OmhK1dNOPi"
      },
      "source": [
        "#### Experimenting"
      ]
    },
    {
      "cell_type": "code",
      "execution_count": null,
      "metadata": {
        "colab": {
          "background_save": true
        },
        "id": "7tV6s88PNQxZ",
        "outputId": "f2e7d567-8123-4857-8e1a-923618ce738b"
      },
      "outputs": [
        {
          "data": {
            "text/plain": [
              "<matplotlib.image.AxesImage at 0x7fc7dc5f14d0>"
            ]
          },
          "execution_count": 67,
          "metadata": {},
          "output_type": "execute_result"
        },
        {
          "data": {
            "image/png": "[encoded data removed]",
            "text/plain": [
              "<Figure size 432x288 with 2 Axes>"
            ]
          },
          "metadata": {},
          "output_type": "display_data"
        }
      ],
      "source": [
        "figure,ax = plt.subplots(nrows = 2, ncols=1,sharex=True)\n",
        "ax[0].imshow(labels[0,:,:,0],cmap=CMAP,norm=NORM)\n",
        "ax[1].imshow(inputs[0,:,:,8],cmap='viridis')\n",
        "\n"
      ]
    },
    {
      "cell_type": "code",
      "execution_count": null,
      "metadata": {
        "colab": {
          "background_save": true
        },
        "id": "Mj4zrv9CUlPI",
        "outputId": "f27d66db-e594-470a-9321-5001b45b3d69"
      },
      "outputs": [
        {
          "data": {
            "text/plain": [
              "<matplotlib.colors.ListedColormap at 0x7fc8702dad90>"
            ]
          },
          "execution_count": 68,
          "metadata": {},
          "output_type": "execute_result"
        }
      ],
      "source": [
        "CMAP"
      ]
    },
    {
      "cell_type": "markdown",
      "metadata": {
        "id": "gItXD5PUB73P"
      },
      "source": [
        "## Loss Functions"
      ]
    },
    {
      "cell_type": "markdown",
      "metadata": {
        "id": "gVS8ppH_OzKb"
      },
      "source": [
        "### Custom Loss Functions\n",
        "\n",
        "These are in progress, working on it right now."
      ]
    },
    {
      "cell_type": "code",
      "execution_count": null,
      "metadata": {
        "colab": {
          "background_save": true
        },
        "id": "UZ508mZIqZ-x",
        "outputId": "373e58c4-62f9-4c16-8d5a-dcc4c52e97c0"
      },
      "outputs": [
        {
          "data": {
            "text/plain": [
              "array([[0.58757219, 0.65940844],\n",
              "       [0.96544605, 0.66038067],\n",
              "       [0.76076433, 0.51114779]])"
            ]
          },
          "execution_count": 69,
          "metadata": {},
          "output_type": "execute_result"
        }
      ],
      "source": [
        "arr1 = np.array([[1,2],[2,3],[3,4]])\n",
        "a,b = arr1.shape\n",
        "np.random.rand(a,b)"
      ]
    },
    {
      "cell_type": "code",
      "execution_count": null,
      "metadata": {
        "colab": {
          "background_save": true
        },
        "id": "UD1J5Lf0O2Vw"
      },
      "outputs": [],
      "source": [
        "import numpy as np\n",
        "def fakeLoss(y_true,y_pred):\n",
        "  print(type(y_true))\n",
        "  y_true = tf.make_ndarray(y_true)\n",
        "  y_pred = tf.make_ndarray(y_pred)\n",
        "\n",
        "  return np.sum((y_true+y_pred)**2)\n",
        "\n",
        "def loss_mse(y_true,y_pred):\n",
        "  return tf.reduce_sum(tf.square(y_true + y_pred))\n",
        "\n",
        "# def confidence(array):\n",
        "#   \"\"\"\n",
        "#   Parameters: 2D np array\n",
        "#   Returns: processed 2D np array according to color map rules + difference from the bounds\n",
        "#   \"\"\"\n",
        "#   a,b = array.shape\n",
        "#   f_arr = np.random.rand(a,b)\n",
        "#   for i in range(array.shape[0]):\n",
        "#     for j in range(array.shape[1]):\n",
        "#       bool1 = False\n",
        "#       new_var = array[i,j]\n",
        "#       if new_var <= 1 and new_var >= 0.001:\n",
        "#         f_arr[i,j] = (new_var-1)**2 + (new_var-.001)**2\n",
        "#       elif new_var < 0.001 and new_var >= -0.1:\n",
        "#         f_arr[i,j] = (new_var-0.001)**2 + (new_var+0.1)**2\n",
        "#       elif new_var <= -0.1 and new_var >= -1:\n",
        "#         f_arr[i,j] = (new_var+1)**2 + (new_var+.1)**2\n",
        "#   return f_arr\n",
        "\n",
        "def dice_loss(y_true, y_pred):\n",
        "  y_true = tf.cast(y_true, tf.float32)\n",
        "  y_pred = tf.math.sigmoid(y_pred)\n",
        "  numerator = 2 * tf.reduce_sum(y_true * y_pred)\n",
        "  denominator = tf.reduce_sum(y_true + y_pred)\n",
        "\n",
        "  return 1 - numerator / denominator\n",
        "\n",
        "\n",
        "def convert(array):\n",
        "  \"\"\"\n",
        "  Parameters: 2D tensor\n",
        "  Returns: processed 2D np array according to color map rules + difference from the bounds\n",
        "  0 - red\n",
        "  1 - Gray\n",
        "  2 - Black\n",
        "  \"\"\"\n",
        "  array=tf.reshape(array,[32,32])\n",
        "  a,b = array.shape\n",
        "  f_arr = np.random.rand(32,32)\n",
        "  for i in range(32):\n",
        "    for j in range(32):\n",
        "      new_var = array[i,j]\n",
        "      if new_var >= 0.001:\n",
        "        f_arr[i,j] = 0\n",
        "      elif new_var < 0.001 and new_var >= -0.1:\n",
        "        f_arr[i,j] = 1\n",
        "      elif new_var <= -0.1:\n",
        "        f_arr[i,j] = 2\n",
        "  return f_arr \n",
        "def distance(y_true,a,b,c,d):\n",
        "  \"\"\"\n",
        "  Parameters: (ytrue, numpy 2d array), (a, row index of ytrue right now), (b, column index), (c, )\n",
        "  Output: distance between this point and nearest target value\n",
        "  \"\"\"\n",
        "  return np.sqrt((c-a)**2 + (d-b)**2)\n",
        "def gen_distance(y_true,y_pred):\n",
        "  \"\"\"\n",
        "  Parameters: the converted 2D np array of ytrue and ypredicted\n",
        "  Ouput: An array that has distance values from y_true to y_pred\n",
        "  \"\"\"\n",
        "  assert y_true.shape == y_pred.shape\n",
        "\n",
        "  a,b = y_true.shape\n",
        "  f_arr = np.random.rand(a,b)\n",
        "  for i in range(y_true.shape[0]):\n",
        "    for j in range(y_true.shape[1]):\n",
        "      maxDist=-1\n",
        "      breakVar = False\n",
        "      if y_true[i,j] != y_pred[i,j]:\n",
        "        breakVar = False\n",
        "        maxDist=-1\n",
        "        for a in range(y_true.shape[0]):\n",
        "          for b in range(y_true.shape[1]):\n",
        "              if (distance(y_true,i,j,a,b)>maxDist):\n",
        "                if (distance(y_true,i,j,a,b)>10):\n",
        "                  maxDist=10\n",
        "                  breakVar = True\n",
        "                  break\n",
        "                maxDist = distance(y_true,i,j,a,b)\n",
        "          if (breakVar):\n",
        "            break\n",
        "      else:\n",
        "        f_arr[i,j] = 0\n",
        "  return f_arr\n",
        "\n",
        "def punisher(y_true, y_pred):\n",
        "  yTrue = convert(y_true)\n",
        "  yPred = convert(y_pred)\n",
        "  return np.sum(gen_distance(yTrue,yPred))\n",
        "\n",
        "def mod_cross_entropy_loss(y_true,y_pred):\n",
        "  true_sum = tf.reduce_sum(y_true)\n",
        "  pred_sum = tf.reduce_sum(y_pred)\n",
        "  yTrue = convert(y_true)/true_sum\n",
        "  yPred = convert(y_pred)/pred_sum\n",
        "  sum1 = 0\n",
        "  sum1 = (y_true-y_pred)**2\n",
        "  sum1 = tf.math.sqrt(tf.reduce_sum(sum1))\n",
        "  sum1 = sum1.numpy()\n",
        "  pred_prob = probDist(yPred.numpy())\n",
        "  true_prob = probDist(yTrue.numpy())\n",
        "  cross = -sum([true_prob[i]*math.log(pred_prob[i])/math.log(2) for i in range(len(true_prob))])\n",
        "  return (sum1/1024) + probDist() \n",
        "\n",
        "# punisher(np.random.rand(32,32),np.random.rand(32,32))\n",
        "# import numpy\n",
        "# import torch\n",
        "# import torch.nn as nn\n",
        "# import torch.nn.functional as F\n",
        "# import keras\n",
        "# import keras.backend as K\n",
        "# # class DiceLoss(nn.Module):\n",
        "# #     def __init__(self, weight=None, size_average=True):\n",
        "# #         super(DiceLoss, self).__init__()\n",
        "\n",
        "# #     def forward(self, inputs, targets, smooth=1):\n",
        "        \n",
        "# #         #comment out if your model contains a sigmoid or equivalent activation layer\n",
        "# #         inputs = F.sigmoid(inputs)       \n",
        "        \n",
        "# #         #flatten label and prediction tensors\n",
        "# #         inputs = inputs.view(-1)\n",
        "# #         targets = targets.view(-1)\n",
        "        \n",
        "# #         intersection = (inputs * targets).sum()                            \n",
        "# #         dice = (2.*intersection + smooth)/(inputs.sum() + targets.sum() + smooth)  \n",
        "        \n",
        "# #         return 1 - dice\n",
        "def spec_dice_loss(y_true, y_pred):\n",
        "  y_true = tf.cast(y_true, tf.float32)\n",
        "  y_pred = tf.math.sigmoid(y_pred)\n",
        "  numerator = 2 * tf.reduce_sum(y_true * y_pred)\n",
        "  denominator = tf.reduce_sum(y_true + y_pred)\n",
        "\n",
        "  return 1 - numerator / denominator\n",
        "\n",
        "# from scipy.spatial import distance_matrix\n",
        "# import numpy as np\n",
        "\n",
        "# not_zeros = np.argwhere(img != 0)\n",
        "# zeros = np.argwhere(img == 0)\n",
        "\n",
        "# dist_matrix = distance_matrix(zeros, not_zeros, p=2)\n",
        "# output = np.zeros((HEIGHT, WIDTH, 1), dtype=np.uint8)\n",
        "\n",
        "# i = 0\n",
        "# dist = np.min(dist_matrix, axis=1)\n",
        "# for y in range(HEIGHT):\n",
        "#   for x in range(WIDTH):\n",
        "#     if img[y,x] == 0:\n",
        "#       output[y,x] = dist[i]\n",
        "#       i += 1\n",
        "\n",
        "# from functools import partial\n",
        "\n",
        "# def loss_function(y_true, y_pred, weights):\n",
        "# ...\n",
        "\n",
        "# weight_input = Input(shape=(HEIGHT, WIDTH))\n",
        "# loss = partial(loss_function, weights=weight_input)\n",
        "\n"
      ]
    },
    {
      "cell_type": "markdown",
      "metadata": {
        "id": "N-L6Nq4Zyeae"
      },
      "source": [
        "### Classic Loss Functions"
      ]
    },
    {
      "cell_type": "code",
      "execution_count": null,
      "metadata": {
        "colab": {
          "background_save": true
        },
        "id": "Oshd3l2LceyJ",
        "outputId": "b451a8a3-4d87-4d18-95b9-34a83230220e"
      },
      "outputs": [
        {
          "data": {
            "text/plain": [
              "<tf.Tensor: shape=(3, 3), dtype=float32, numpy=\n",
              "array([[0.  , 0.02, 0.  ],\n",
              "       [0.02, 0.  , 0.  ],\n",
              "       [0.02, 0.  , 0.96]], dtype=float32)>"
            ]
          },
          "execution_count": 71,
          "metadata": {},
          "output_type": "execute_result"
        }
      ],
      "source": [
        "y_true = tf.constant([[0,1,0],[1,0,0],[1,0,1]])\n",
        "y_true = tf.cast(y_true,'float')\n",
        "y_pred = tf.constant([[0,1,0],[1,0,0],[1,0,1]],dtype='float')\n",
        "weights = tf.constant([0.02,0.02,0.96],dtype='float')\n",
        "tf.math.multiply(tf.math.multiply(y_true, y_true),weights)"
      ]
    },
    {
      "cell_type": "code",
      "execution_count": null,
      "metadata": {
        "colab": {
          "background_save": true
        },
        "id": "hUYgbhYnyhKW"
      },
      "outputs": [],
      "source": [
        "from keras import backend as K\n",
        "import math\n",
        "# Focal Tversky_loss\n",
        "def weigthed_cross(y_true,y_pred):\n",
        "  cce = tf.keras.losses.CategoricalCrossentropy()\n",
        "  return cce(y_true, y_pred, sample_weight=[[0.1,0.9]])\n",
        "  # , sample_weight=tf.constant([0.02,0.02, 0.96])\n",
        "  # return tf.keras.losses.CategoricalCrossentropy(y_true,y_pred)(sample_weights)\n",
        "def weighted_cross_entropy(y_true,y_pred):\n",
        "  y_true = tf.cast(y_true,'float')\n",
        "  y_pred = tf.cast(y_pred,'float')\n",
        "  weights = tf.constant([1,1,100],dtype='float')\n",
        "  return -tf.reduce_sum(tf.math.multiply(tf.math.multiply(y_true, tf.math.log1p(y_pred)), weights))\n",
        "\n",
        "# def weighted_cross_entropy(beta):\n",
        "#   def loss(y_true, y_pred):\n",
        "#     weight_a = beta * tf.cast(y_true, tf.float32)\n",
        "#     weight_b = 1 - tf.cast(y_true, tf.float32)\n",
        "    \n",
        "#     o = (tf.math.log1p(tf.exp(-tf.abs(y_pred))) + tf.nn.relu(-y_pred)) * (weight_a + weight_b) + y_pred * weight_b \n",
        "#     return tf.reduce_mean(o)\n",
        "\n",
        "#   return loss\n",
        "\n",
        "def big_weighted_cross_entropy(y_true, y_pred, beta = 100):\n",
        "  class_weights = tf.constant([[1, 1, 300]])\n",
        "  tf.math.log1p()\n",
        "  o = (tf.math.log1p(tf.exp(-tf.abs(y_pred))) + tf.nn.relu(-y_pred)) * (weight_a + weight_b) + y_pred * weight_b \n",
        "  return tf.reduce_mean(o)\n",
        "\n",
        "def probDist(y):\n",
        "  classes = [0,1,2]\n",
        "  prob = [0,0,0]\n",
        "  for i in range(y.shape[0]):\n",
        "    for j in range(y.shape[1]):\n",
        "      if (y[i,j] == 0):\n",
        "        prob[0]+=1\n",
        "      if (y[i,j] == 1):\n",
        "        prob[1]+=1\n",
        "      if (y[i,j] == 2):\n",
        "        prob[2]+=1\n",
        "  prob = np.array(prob)\n",
        "  return prob/(np.sum(prob))\n",
        "def weighted_bce(y_true, y_pred):\n",
        "  weights = (y_true * 59.) + 1.\n",
        "  bce = K.binary_crossentropy(y_true, y_pred)\n",
        "  weighted_bce = K.mean(bce * weights)\n",
        "  return weighted_bce\n",
        "def class_tversky(y_true, y_pred):\n",
        "    smooth = 1\n",
        "\n",
        "    y_true = K.permute_dimensions(y_true, (3,1,2,0))\n",
        "    y_pred = K.permute_dimensions(y_pred, (3,1,2,0))\n",
        "\n",
        "    y_true_pos = K.batch_flatten(y_true)\n",
        "    y_pred_pos = K.batch_flatten(y_pred)\n",
        "    true_pos = K.sum(y_true_pos * y_pred_pos, 1)\n",
        "    false_neg = K.sum(y_true_pos * (1-y_pred_pos), 1)\n",
        "    false_pos = K.sum((1-y_true_pos)*y_pred_pos, 1)\n",
        "    alpha = 0.7\n",
        "    return (true_pos + smooth)/(true_pos + alpha*false_neg + (1-alpha)*false_pos + smooth)\n",
        "\n",
        "def focal_tversky_loss(y_true,y_pred):\n",
        "    pt_1 = class_tversky(y_true, y_pred)\n",
        "    gamma = 0.75\n",
        "    return K.sum(K.pow((1-pt_1), gamma))\n",
        "\n",
        "# Dice Loss\n",
        "smooth = 1.\n",
        "def dice_coef(y_true, y_pred):\n",
        "    y_true_f = K.flatten(y_true)\n",
        "    y_pred_f = K.flatten(y_pred)\n",
        "    intersection = K.sum(y_true_f * y_pred_f)\n",
        "    return (2. * intersection + smooth) / (K.sum(y_true_f) + K.sum(y_pred_f) + smooth)\n",
        "\n",
        "def dice_coef_loss(y_true, y_pred):\n",
        "    return 1-dice_coef(y_true, y_pred)\n",
        "\n",
        "#Keras\n",
        "ALPHA = 0.8\n",
        "GAMMA = 2\n",
        "\n",
        "def focal_loss(targets, inputs, alpha=ALPHA, gamma=GAMMA):    \n",
        "    \n",
        "    inputs = K.flatten(inputs)\n",
        "    targets = K.flatten(targets)\n",
        "    \n",
        "    BCE = K.binary_crossentropy(targets, inputs)\n",
        "    BCE_EXP = K.exp(-BCE)\n",
        "    focal_loss = K.mean(alpha * K.pow((1-BCE_EXP), gamma) * BCE)\n",
        "    \n",
        "    return focal_loss\n",
        "\n",
        "def dice_coef_binary(y_true, y_pred, smooth=1e-7):\n",
        "    '''\n",
        "    Dice coefficient for 2 categories. Ignores background pixel label 0\n",
        "    Pass to model as metric during compile statement\n",
        "    '''\n",
        "    y_true_f = K.flatten(K.one_hot(K.cast(y_true, 'int32'), num_classes=2)[...,1:])\n",
        "    y_pred_f = K.flatten(y_pred[...,1:])\n",
        "    intersect = K.sum(y_true_f * y_pred_f, axis=-1)\n",
        "    denom = K.sum(y_true_f + y_pred_f, axis=-1)\n",
        "    return K.mean((2. * intersect / (denom + smooth)))\n",
        "\n",
        "\n",
        "def dice_coef_binary_loss(y_true, y_pred):\n",
        "    '''\n",
        "    Dice loss to minimize. Pass to model as loss during compile statement\n",
        "    '''\n",
        "    return 1 - dice_coef_binary(y_true, y_pred)\n",
        "\n",
        "def get_loss_function(loss_function_name):\n",
        "    if loss_function_name == \"focal_tversky_loss\":\n",
        "        loss_function = focal_tversky_loss\n",
        "    elif loss_function_name == \"dice_coef_loss\":\n",
        "        loss_function = dice_coef_loss\n",
        "    elif loss_function_name == \"dice_coef_binary_loss\":\n",
        "        loss_function = dice_coef_binary_loss\n",
        "    elif loss_function_name == \"focal_loss\":\n",
        "        loss_function = focal_loss\n",
        "    elif loss_function_name == \"sparse_categorical_crossentropy\":\n",
        "        loss_function = tf.keras.losses.SparseCategoricalCrossentropy()\n",
        "    else:\n",
        "        loss_function = loss_function_name # for keras implemented losses like \"categorical_crossentropy\"\n",
        "        \n",
        "    return loss_function"
      ]
    },
    {
      "cell_type": "markdown",
      "metadata": {
        "id": "Sd-jbgA0JRnI"
      },
      "source": [
        "## Models"
      ]
    },
    {
      "cell_type": "markdown",
      "metadata": {
        "id": "Mtxtc1_VZMU6"
      },
      "source": [
        "### Keras CNN "
      ]
    },
    {
      "cell_type": "code",
      "execution_count": null,
      "metadata": {
        "colab": {
          "background_save": true
        },
        "id": "W1lRtXb2YRG2"
      },
      "outputs": [],
      "source": [
        "from tensorflow.keras import Input\n",
        "DROPOUT = 0.5\n",
        "\n",
        "input_arr = [] #size 12\n",
        "models_arr = [] #size 12\n",
        "for i in range(12):\n",
        "  input_arr.append(Input(shape=(32,32,1)))\n",
        "for i in range(12):\n",
        "  models_arr.append(layers.Conv2D(64,(3,3),activation='relu',padding='same')(input_arr[i]))\n",
        "  models_arr[i] = layers.MaxPool2D((2,2))(models_arr[i])\n",
        "  models_arr[i] = layers.BatchNormalization()(models_arr[i])\n",
        "  models_arr[i] = layers.Dropout(DROPOUT)(models_arr[i])\n",
        "\n",
        "\n",
        "  models_arr[i]=layers.Conv2D(16,(3,3),activation='relu',padding='same')(models_arr[i])\n",
        "  models_arr[i] = layers.MaxPool2D((2,2))(models_arr[i])\n",
        "  models_arr[i] = layers.BatchNormalization()(models_arr[i])\n",
        "  models_arr[i] = layers.Dropout(DROPOUT)(models_arr[i])\n",
        "# input_arr = np.array(input_arr)\n",
        "  \n",
        "encoder = layers.concatenate(models_arr)\n",
        "encoder_model = Model(input_arr,encoder)\n",
        "# encoder_model.summary()\n",
        "# models_arr[0].summary()"
      ]
    },
    {
      "cell_type": "code",
      "execution_count": null,
      "metadata": {
        "colab": {
          "background_save": true
        },
        "id": "wnzRfzvegXfg"
      },
      "outputs": [],
      "source": [
        "autoencoder = layers.Conv2D(16, (3, 3), activation='relu', padding='same')(encoder)\n",
        "autoencoder = (layers.UpSampling2D((2, 2)))(autoencoder)\n",
        "autoencoder = layers.BatchNormalization()(autoencoder)\n",
        "autoencoder = layers.Dropout(DROPOUT)(autoencoder)\n",
        "\n",
        "\n",
        "autoencoder = tf.keras.layers.Conv2D(64, (3, 3), activation='relu', padding='same')(autoencoder)\n",
        "autoencoder = tf.keras.layers.UpSampling2D((2, 2)) (autoencoder)\n",
        "autoencoder = layers.BatchNormalization()(autoencoder)\n",
        "autoencoder = layers.Dropout(DROPOUT)(autoencoder)\n",
        "\n",
        "\n",
        "autoencoder = layers.Conv2D(1, (3, 3), activation='tanh', padding='same')(autoencoder)\n",
        "autoencoder = layers.Dense(3,activation='softmax')(autoencoder)\n",
        "autoencoder = Model(inputs = input_arr,outputs = autoencoder)\n",
        "opt = keras.optimizers.Adam(learning_rate=0.00001)\n",
        "\n",
        "                    # metrics=[tf.keras.metrics.Recall(),tf.keras.metrics.AUC()])\n",
        "\n",
        "\n",
        "\n",
        "\n",
        "# autoencoder.summary()"
      ]
    },
    {
      "cell_type": "markdown",
      "metadata": {
        "id": "5KvuRi9DLI6W"
      },
      "source": [
        "#### Training"
      ]
    },
    {
      "cell_type": "code",
      "execution_count": null,
      "metadata": {
        "colab": {
          "background_save": true
        },
        "id": "4dj49STCEQRE"
      },
      "outputs": [],
      "source": [
        "from sklearn.preprocessing import LabelBinarizer\n",
        "# tf.enable_eager_execution()\n",
        "enc = LabelBinarizer()\n",
        "labels1 = labels.numpy()\n",
        "y_train_encoded = enc.fit_transform(labels1.flatten())\n",
        "y_val_encoded=enc.transform(y_test.numpy().flatten())\n",
        "\n",
        "y_train_encoded = y_train_encoded.reshape(train_batch,32,32,3)\n",
        "y_val_encoded = y_val_encoded.reshape(1689,32,32,3)\n",
        "\n",
        "# labels.shape"
      ]
    },
    {
      "cell_type": "markdown",
      "metadata": {
        "id": "ENb0DIR057Vs"
      },
      "source": [
        "##### Categorical Training"
      ]
    },
    {
      "cell_type": "code",
      "execution_count": null,
      "metadata": {
        "colab": {
          "background_save": true
        },
        "id": "G5Hw_QA2LKfX",
        "outputId": "f066dfc4-7efc-4ffc-9dcf-dc52ad084667"
      },
      "outputs": [
        {
          "name": "stdout",
          "output_type": "stream",
          "text": [
            "Epoch 1/100\n",
            "207/207 - 10s - loss: -7.7518e+04 - recall: 0.0053 - auc: 0.5090 - val_loss: -9.3478e+04 - val_recall: 0.0275 - val_auc: 0.4942 - 10s/epoch - 47ms/step\n",
            "Epoch 2/100\n",
            "207/207 - 6s - loss: -9.1756e+04 - recall: 0.0246 - auc: 0.4864 - val_loss: -1.0552e+05 - val_recall: 0.0271 - val_auc: 0.4721 - 6s/epoch - 27ms/step\n",
            "Epoch 3/100\n",
            "207/207 - 6s - loss: -9.9982e+04 - recall: 0.0245 - auc: 0.4724 - val_loss: -1.1251e+05 - val_recall: 0.0267 - val_auc: 0.4149 - 6s/epoch - 27ms/step\n",
            "Epoch 4/100\n",
            "207/207 - 6s - loss: -1.0501e+05 - recall: 0.0242 - auc: 0.4156 - val_loss: -1.1580e+05 - val_recall: 0.0254 - val_auc: 0.3387 - 6s/epoch - 27ms/step\n",
            "Epoch 5/100\n",
            "207/207 - 6s - loss: -1.0913e+05 - recall: 0.0236 - auc: 0.3589 - val_loss: -1.2132e+05 - val_recall: 0.0264 - val_auc: 0.3937 - 6s/epoch - 27ms/step\n",
            "Epoch 6/100\n",
            "207/207 - 6s - loss: -1.1316e+05 - recall: 0.0226 - auc: 0.5042 - val_loss: -1.2389e+05 - val_recall: 0.0245 - val_auc: 0.5308 - 6s/epoch - 27ms/step\n",
            "Epoch 7/100\n",
            "207/207 - 6s - loss: -1.1726e+05 - recall: 0.4371 - auc: 0.6113 - val_loss: -1.2721e+05 - val_recall: 0.4313 - val_auc: 0.4974 - 6s/epoch - 27ms/step\n",
            "Epoch 8/100\n",
            "207/207 - 6s - loss: -1.2062e+05 - recall: 0.6625 - auc: 0.6480 - val_loss: -1.3008e+05 - val_recall: 0.6532 - val_auc: 0.6367 - 6s/epoch - 27ms/step\n",
            "Epoch 9/100\n",
            "207/207 - 6s - loss: -1.2311e+05 - recall: 0.7073 - auc: 0.6817 - val_loss: -1.2953e+05 - val_recall: 0.6183 - val_auc: 0.6033 - 6s/epoch - 27ms/step\n",
            "Epoch 10/100\n",
            "207/207 - 6s - loss: -1.2476e+05 - recall: 0.7174 - auc: 0.6886 - val_loss: -1.3374e+05 - val_recall: 0.6932 - val_auc: 0.6650 - 6s/epoch - 27ms/step\n",
            "Epoch 11/100\n",
            "207/207 - 6s - loss: -1.2601e+05 - recall: 0.7250 - auc: 0.6955 - val_loss: -1.3435e+05 - val_recall: 0.6857 - val_auc: 0.6591 - 6s/epoch - 27ms/step\n",
            "Epoch 12/100\n",
            "207/207 - 6s - loss: -1.2702e+05 - recall: 0.7238 - auc: 0.6948 - val_loss: -1.3441e+05 - val_recall: 0.7337 - val_auc: 0.7056 - 6s/epoch - 27ms/step\n",
            "Epoch 13/100\n",
            "207/207 - 6s - loss: -1.2752e+05 - recall: 0.7251 - auc: 0.6964 - val_loss: -1.3500e+05 - val_recall: 0.6361 - val_auc: 0.6210 - 6s/epoch - 27ms/step\n",
            "Epoch 14/100\n",
            "207/207 - 6s - loss: -1.2831e+05 - recall: 0.7283 - auc: 0.6999 - val_loss: -1.3541e+05 - val_recall: 0.7376 - val_auc: 0.7103 - 6s/epoch - 27ms/step\n",
            "Epoch 15/100\n",
            "207/207 - 6s - loss: -1.2862e+05 - recall: 0.7329 - auc: 0.7044 - val_loss: -1.3471e+05 - val_recall: 0.7666 - val_auc: 0.7368 - 6s/epoch - 27ms/step\n",
            "Epoch 16/100\n",
            "207/207 - 6s - loss: -1.2890e+05 - recall: 0.7276 - auc: 0.6941 - val_loss: -1.2850e+05 - val_recall: 0.7857 - val_auc: 0.7482 - 6s/epoch - 27ms/step\n",
            "Epoch 17/100\n",
            "207/207 - 6s - loss: -1.2948e+05 - recall: 0.7405 - auc: 0.7105 - val_loss: -1.3355e+05 - val_recall: 0.7972 - val_auc: 0.7671 - 6s/epoch - 27ms/step\n",
            "Epoch 18/100\n",
            "207/207 - 6s - loss: -1.2976e+05 - recall: 0.7339 - auc: 0.7081 - val_loss: -1.3748e+05 - val_recall: 0.7214 - val_auc: 0.6942 - 6s/epoch - 27ms/step\n",
            "Epoch 19/100\n",
            "207/207 - 6s - loss: -1.2990e+05 - recall: 0.7400 - auc: 0.7164 - val_loss: -1.3663e+05 - val_recall: 0.6623 - val_auc: 0.6506 - 6s/epoch - 27ms/step\n",
            "Epoch 20/100\n",
            "207/207 - 6s - loss: -1.3012e+05 - recall: 0.7352 - auc: 0.7118 - val_loss: -1.3750e+05 - val_recall: 0.7375 - val_auc: 0.7104 - 6s/epoch - 27ms/step\n",
            "Epoch 21/100\n",
            "207/207 - 6s - loss: -1.3009e+05 - recall: 0.7389 - auc: 0.7119 - val_loss: -1.3119e+05 - val_recall: 0.7783 - val_auc: 0.7448 - 6s/epoch - 27ms/step\n",
            "Epoch 22/100\n",
            "207/207 - 6s - loss: -1.3054e+05 - recall: 0.7384 - auc: 0.7094 - val_loss: -1.3079e+05 - val_recall: 0.7771 - val_auc: 0.7461 - 6s/epoch - 27ms/step\n",
            "Epoch 23/100\n",
            "207/207 - 6s - loss: -1.3084e+05 - recall: 0.7365 - auc: 0.7076 - val_loss: -1.3136e+05 - val_recall: 0.7637 - val_auc: 0.7340 - 6s/epoch - 27ms/step\n",
            "Epoch 24/100\n",
            "207/207 - 6s - loss: -1.3081e+05 - recall: 0.7410 - auc: 0.7109 - val_loss: -1.3640e+05 - val_recall: 0.6355 - val_auc: 0.6116 - 6s/epoch - 27ms/step\n",
            "Epoch 25/100\n",
            "207/207 - 6s - loss: -1.3098e+05 - recall: 0.7427 - auc: 0.7135 - val_loss: -1.3853e+05 - val_recall: 0.6880 - val_auc: 0.6569 - 6s/epoch - 27ms/step\n",
            "Epoch 26/100\n",
            "207/207 - 6s - loss: -1.3119e+05 - recall: 0.7437 - auc: 0.7155 - val_loss: -1.3804e+05 - val_recall: 0.7278 - val_auc: 0.6958 - 6s/epoch - 27ms/step\n",
            "Epoch 27/100\n",
            "207/207 - 6s - loss: -1.3132e+05 - recall: 0.7395 - auc: 0.7292 - val_loss: -1.3348e+05 - val_recall: 0.7693 - val_auc: 0.7637 - 6s/epoch - 27ms/step\n",
            "Epoch 28/100\n",
            "207/207 - 6s - loss: -1.3126e+05 - recall: 0.7352 - auc: 0.7385 - val_loss: -1.3191e+05 - val_recall: 0.7382 - val_auc: 0.7442 - 6s/epoch - 27ms/step\n",
            "Epoch 29/100\n",
            "207/207 - 6s - loss: -1.3124e+05 - recall: 0.7374 - auc: 0.7429 - val_loss: -1.3406e+05 - val_recall: 0.7184 - val_auc: 0.7280 - 6s/epoch - 27ms/step\n",
            "Epoch 30/100\n",
            "207/207 - 6s - loss: -1.3148e+05 - recall: 0.7390 - auc: 0.7475 - val_loss: -1.2807e+05 - val_recall: 0.7861 - val_auc: 0.7889 - 6s/epoch - 27ms/step\n",
            "Epoch 31/100\n",
            "207/207 - 6s - loss: -1.3165e+05 - recall: 0.7370 - auc: 0.7456 - val_loss: -1.3796e+05 - val_recall: 0.6658 - val_auc: 0.6780 - 6s/epoch - 27ms/step\n",
            "Epoch 32/100\n",
            "207/207 - 6s - loss: -1.3159e+05 - recall: 0.7419 - auc: 0.7518 - val_loss: -1.3057e+05 - val_recall: 0.7587 - val_auc: 0.7635 - 6s/epoch - 27ms/step\n",
            "Epoch 33/100\n",
            "207/207 - 6s - loss: -1.3166e+05 - recall: 0.7391 - auc: 0.7523 - val_loss: -1.3828e+05 - val_recall: 0.6643 - val_auc: 0.6857 - 6s/epoch - 27ms/step\n",
            "Epoch 34/100\n",
            "207/207 - 6s - loss: -1.3193e+05 - recall: 0.7432 - auc: 0.7572 - val_loss: -1.3237e+05 - val_recall: 0.7132 - val_auc: 0.7346 - 6s/epoch - 27ms/step\n",
            "Epoch 35/100\n",
            "207/207 - 6s - loss: -1.3196e+05 - recall: 0.7452 - auc: 0.7589 - val_loss: -1.3826e+05 - val_recall: 0.7425 - val_auc: 0.7516 - 6s/epoch - 27ms/step\n",
            "Epoch 36/100\n",
            "207/207 - 6s - loss: -1.3205e+05 - recall: 0.7422 - auc: 0.7594 - val_loss: -1.3689e+05 - val_recall: 0.6618 - val_auc: 0.6924 - 6s/epoch - 27ms/step\n",
            "Epoch 37/100\n",
            "207/207 - 6s - loss: -1.3210e+05 - recall: 0.7411 - auc: 0.7603 - val_loss: -1.3309e+05 - val_recall: 0.7339 - val_auc: 0.7567 - 6s/epoch - 27ms/step\n",
            "Epoch 38/100\n",
            "207/207 - 6s - loss: -1.3199e+05 - recall: 0.7427 - auc: 0.7621 - val_loss: -1.3555e+05 - val_recall: 0.6289 - val_auc: 0.6576 - 6s/epoch - 27ms/step\n",
            "Epoch 39/100\n",
            "207/207 - 6s - loss: -1.3239e+05 - recall: 0.7451 - auc: 0.7664 - val_loss: -1.3516e+05 - val_recall: 0.7458 - val_auc: 0.7618 - 6s/epoch - 27ms/step\n",
            "Epoch 40/100\n",
            "207/207 - 6s - loss: -1.3200e+05 - recall: 0.7398 - auc: 0.7641 - val_loss: -1.3717e+05 - val_recall: 0.6961 - val_auc: 0.7344 - 6s/epoch - 27ms/step\n",
            "Epoch 41/100\n",
            "207/207 - 6s - loss: -1.3218e+05 - recall: 0.7440 - auc: 0.7691 - val_loss: -1.2898e+05 - val_recall: 0.8029 - val_auc: 0.8085 - 6s/epoch - 27ms/step\n",
            "Epoch 42/100\n",
            "207/207 - 6s - loss: -1.3239e+05 - recall: 0.7449 - auc: 0.7710 - val_loss: -1.3788e+05 - val_recall: 0.6952 - val_auc: 0.7160 - 6s/epoch - 27ms/step\n",
            "Epoch 43/100\n",
            "207/207 - 6s - loss: -1.3251e+05 - recall: 0.7416 - auc: 0.7784 - val_loss: -1.3513e+05 - val_recall: 0.7609 - val_auc: 0.7895 - 6s/epoch - 27ms/step\n",
            "Epoch 44/100\n",
            "207/207 - 6s - loss: -1.3239e+05 - recall: 0.7418 - auc: 0.7893 - val_loss: -1.3778e+05 - val_recall: 0.6351 - val_auc: 0.6950 - 6s/epoch - 27ms/step\n",
            "Epoch 45/100\n",
            "207/207 - 6s - loss: -1.3251e+05 - recall: 0.7427 - auc: 0.8024 - val_loss: -1.3323e+05 - val_recall: 0.7654 - val_auc: 0.8100 - 6s/epoch - 27ms/step\n",
            "Epoch 46/100\n",
            "207/207 - 6s - loss: -1.3244e+05 - recall: 0.7412 - auc: 0.8075 - val_loss: -1.3726e+05 - val_recall: 0.6116 - val_auc: 0.6806 - 6s/epoch - 28ms/step\n",
            "Epoch 47/100\n",
            "207/207 - 6s - loss: -1.3273e+05 - recall: 0.7449 - auc: 0.8124 - val_loss: -1.3221e+05 - val_recall: 0.7758 - val_auc: 0.8284 - 6s/epoch - 27ms/step\n",
            "Epoch 48/100\n",
            "207/207 - 6s - loss: -1.3260e+05 - recall: 0.7491 - auc: 0.8155 - val_loss: -1.3331e+05 - val_recall: 0.7320 - val_auc: 0.7994 - 6s/epoch - 27ms/step\n",
            "Epoch 49/100\n",
            "207/207 - 6s - loss: -1.3262e+05 - recall: 0.7389 - auc: 0.8104 - val_loss: -1.3658e+05 - val_recall: 0.7950 - val_auc: 0.8491 - 6s/epoch - 27ms/step\n",
            "Epoch 50/100\n",
            "207/207 - 6s - loss: -1.3282e+05 - recall: 0.7438 - auc: 0.8146 - val_loss: -1.3090e+05 - val_recall: 0.7948 - val_auc: 0.8479 - 6s/epoch - 27ms/step\n",
            "Epoch 51/100\n",
            "207/207 - 6s - loss: -1.3269e+05 - recall: 0.7441 - auc: 0.8153 - val_loss: -1.3755e+05 - val_recall: 0.7489 - val_auc: 0.8140 - 6s/epoch - 28ms/step\n",
            "Epoch 52/100\n",
            "207/207 - 6s - loss: -1.3272e+05 - recall: 0.7414 - auc: 0.8167 - val_loss: -1.3381e+05 - val_recall: 0.7559 - val_auc: 0.8174 - 6s/epoch - 27ms/step\n",
            "Epoch 53/100\n",
            "207/207 - 6s - loss: -1.3296e+05 - recall: 0.7446 - auc: 0.8190 - val_loss: -1.3681e+05 - val_recall: 0.7377 - val_auc: 0.8049 - 6s/epoch - 27ms/step\n",
            "Epoch 54/100\n",
            "207/207 - 6s - loss: -1.3300e+05 - recall: 0.7464 - auc: 0.8208 - val_loss: -1.3151e+05 - val_recall: 0.7508 - val_auc: 0.8150 - 6s/epoch - 28ms/step\n",
            "Epoch 55/100\n",
            "207/207 - 6s - loss: -1.3265e+05 - recall: 0.7438 - auc: 0.8189 - val_loss: -1.3012e+05 - val_recall: 0.7852 - val_auc: 0.8406 - 6s/epoch - 27ms/step\n",
            "Epoch 56/100\n",
            "207/207 - 6s - loss: -1.3285e+05 - recall: 0.7390 - auc: 0.8179 - val_loss: -1.3783e+05 - val_recall: 0.7303 - val_auc: 0.7952 - 6s/epoch - 27ms/step\n",
            "Epoch 57/100\n",
            "207/207 - 6s - loss: -1.3303e+05 - recall: 0.7418 - auc: 0.8216 - val_loss: -1.3616e+05 - val_recall: 0.7792 - val_auc: 0.8447 - 6s/epoch - 27ms/step\n",
            "Epoch 58/100\n",
            "207/207 - 6s - loss: -1.3304e+05 - recall: 0.7458 - auc: 0.8238 - val_loss: -1.3605e+05 - val_recall: 0.7806 - val_auc: 0.8432 - 6s/epoch - 27ms/step\n",
            "Epoch 59/100\n",
            "207/207 - 6s - loss: -1.3299e+05 - recall: 0.7459 - auc: 0.8217 - val_loss: -1.3519e+05 - val_recall: 0.7473 - val_auc: 0.8150 - 6s/epoch - 27ms/step\n",
            "Epoch 60/100\n",
            "207/207 - 6s - loss: -1.3310e+05 - recall: 0.7469 - auc: 0.8262 - val_loss: -1.3738e+05 - val_recall: 0.7303 - val_auc: 0.7982 - 6s/epoch - 27ms/step\n",
            "Epoch 61/100\n",
            "207/207 - 6s - loss: -1.3300e+05 - recall: 0.7407 - auc: 0.8234 - val_loss: -1.3385e+05 - val_recall: 0.7674 - val_auc: 0.8305 - 6s/epoch - 27ms/step\n",
            "Epoch 62/100\n",
            "207/207 - 6s - loss: -1.3310e+05 - recall: 0.7464 - auc: 0.8255 - val_loss: -1.3203e+05 - val_recall: 0.7651 - val_auc: 0.8279 - 6s/epoch - 27ms/step\n",
            "Epoch 63/100\n",
            "207/207 - 6s - loss: -1.3297e+05 - recall: 0.7399 - auc: 0.8220 - val_loss: -1.3036e+05 - val_recall: 0.7803 - val_auc: 0.8422 - 6s/epoch - 27ms/step\n",
            "Epoch 64/100\n",
            "207/207 - 6s - loss: -1.3320e+05 - recall: 0.7409 - auc: 0.8208 - val_loss: -1.3653e+05 - val_recall: 0.7150 - val_auc: 0.7870 - 6s/epoch - 27ms/step\n",
            "Epoch 65/100\n",
            "207/207 - 6s - loss: -1.3307e+05 - recall: 0.7416 - auc: 0.8241 - val_loss: -1.3604e+05 - val_recall: 0.7714 - val_auc: 0.8357 - 6s/epoch - 27ms/step\n",
            "Epoch 66/100\n",
            "207/207 - 6s - loss: -1.3314e+05 - recall: 0.7386 - auc: 0.8209 - val_loss: -1.3242e+05 - val_recall: 0.7579 - val_auc: 0.8172 - 6s/epoch - 27ms/step\n",
            "Epoch 67/100\n",
            "207/207 - 6s - loss: -1.3327e+05 - recall: 0.7431 - auc: 0.8248 - val_loss: -1.3299e+05 - val_recall: 0.7771 - val_auc: 0.8414 - 6s/epoch - 27ms/step\n",
            "Epoch 68/100\n",
            "207/207 - 6s - loss: -1.3329e+05 - recall: 0.7444 - auc: 0.8245 - val_loss: -1.3272e+05 - val_recall: 0.7625 - val_auc: 0.8271 - 6s/epoch - 27ms/step\n",
            "Epoch 69/100\n",
            "207/207 - 6s - loss: -1.3328e+05 - recall: 0.7432 - auc: 0.8269 - val_loss: -1.3543e+05 - val_recall: 0.7081 - val_auc: 0.7804 - 6s/epoch - 27ms/step\n",
            "Epoch 70/100\n",
            "207/207 - 6s - loss: -1.3330e+05 - recall: 0.7454 - auc: 0.8282 - val_loss: -1.3302e+05 - val_recall: 0.7722 - val_auc: 0.8341 - 6s/epoch - 27ms/step\n",
            "Epoch 71/100\n",
            "207/207 - 6s - loss: -1.3332e+05 - recall: 0.7430 - auc: 0.8263 - val_loss: -1.3670e+05 - val_recall: 0.7430 - val_auc: 0.8115 - 6s/epoch - 27ms/step\n",
            "Epoch 72/100\n",
            "207/207 - 6s - loss: -1.3338e+05 - recall: 0.7472 - auc: 0.8261 - val_loss: -1.3529e+05 - val_recall: 0.7328 - val_auc: 0.8023 - 6s/epoch - 27ms/step\n",
            "Epoch 73/100\n",
            "207/207 - 6s - loss: -1.3330e+05 - recall: 0.7377 - auc: 0.8223 - val_loss: -1.3203e+05 - val_recall: 0.7902 - val_auc: 0.8530 - 6s/epoch - 27ms/step\n",
            "Epoch 74/100\n",
            "207/207 - 6s - loss: -1.3339e+05 - recall: 0.7496 - auc: 0.8310 - val_loss: -1.3097e+05 - val_recall: 0.7676 - val_auc: 0.8348 - 6s/epoch - 27ms/step\n",
            "Epoch 75/100\n",
            "207/207 - 6s - loss: -1.3347e+05 - recall: 0.7440 - auc: 0.8294 - val_loss: -1.3163e+05 - val_recall: 0.8010 - val_auc: 0.8582 - 6s/epoch - 27ms/step\n",
            "Epoch 76/100\n",
            "207/207 - 6s - loss: -1.3328e+05 - recall: 0.7405 - auc: 0.8261 - val_loss: -1.3701e+05 - val_recall: 0.5382 - val_auc: 0.6457 - 6s/epoch - 27ms/step\n",
            "Epoch 77/100\n",
            "207/207 - 6s - loss: -1.3351e+05 - recall: 0.7462 - auc: 0.8300 - val_loss: -1.3290e+05 - val_recall: 0.7905 - val_auc: 0.8521 - 6s/epoch - 27ms/step\n",
            "Epoch 78/100\n",
            "207/207 - 6s - loss: -1.3338e+05 - recall: 0.7418 - auc: 0.8272 - val_loss: -1.3463e+05 - val_recall: 0.7802 - val_auc: 0.8456 - 6s/epoch - 27ms/step\n",
            "Epoch 79/100\n",
            "207/207 - 6s - loss: -1.3347e+05 - recall: 0.7405 - auc: 0.8275 - val_loss: -1.3757e+05 - val_recall: 0.6427 - val_auc: 0.7260 - 6s/epoch - 27ms/step\n",
            "Epoch 80/100\n",
            "207/207 - 6s - loss: -1.3350e+05 - recall: 0.7479 - auc: 0.8301 - val_loss: -1.3245e+05 - val_recall: 0.7856 - val_auc: 0.8410 - 6s/epoch - 27ms/step\n",
            "Epoch 81/100\n",
            "207/207 - 6s - loss: -1.3361e+05 - recall: 0.7445 - auc: 0.8283 - val_loss: -1.3268e+05 - val_recall: 0.7678 - val_auc: 0.8319 - 6s/epoch - 27ms/step\n",
            "Epoch 82/100\n",
            "207/207 - 6s - loss: -1.3355e+05 - recall: 0.7433 - auc: 0.8290 - val_loss: -1.3314e+05 - val_recall: 0.7535 - val_auc: 0.8214 - 6s/epoch - 27ms/step\n",
            "Epoch 83/100\n",
            "207/207 - 6s - loss: -1.3362e+05 - recall: 0.7437 - auc: 0.8308 - val_loss: -1.3353e+05 - val_recall: 0.7794 - val_auc: 0.8421 - 6s/epoch - 27ms/step\n",
            "Epoch 84/100\n",
            "207/207 - 6s - loss: -1.3367e+05 - recall: 0.7431 - auc: 0.8308 - val_loss: -1.3478e+05 - val_recall: 0.7244 - val_auc: 0.8031 - 6s/epoch - 27ms/step\n",
            "Epoch 85/100\n",
            "207/207 - 6s - loss: -1.3372e+05 - recall: 0.7400 - auc: 0.8284 - val_loss: -1.3464e+05 - val_recall: 0.6403 - val_auc: 0.7347 - 6s/epoch - 27ms/step\n",
            "Epoch 86/100\n",
            "207/207 - 6s - loss: -1.3361e+05 - recall: 0.7480 - auc: 0.8319 - val_loss: -1.3524e+05 - val_recall: 0.7012 - val_auc: 0.7789 - 6s/epoch - 27ms/step\n",
            "Epoch 87/100\n",
            "207/207 - 6s - loss: -1.3375e+05 - recall: 0.7449 - auc: 0.8303 - val_loss: -1.3355e+05 - val_recall: 0.7482 - val_auc: 0.8162 - 6s/epoch - 27ms/step\n",
            "Epoch 88/100\n",
            "207/207 - 6s - loss: -1.3364e+05 - recall: 0.7433 - auc: 0.8296 - val_loss: -1.3474e+05 - val_recall: 0.7069 - val_auc: 0.7853 - 6s/epoch - 27ms/step\n",
            "Epoch 89/100\n",
            "207/207 - 6s - loss: -1.3346e+05 - recall: 0.7448 - auc: 0.8306 - val_loss: -1.3460e+05 - val_recall: 0.7176 - val_auc: 0.7879 - 6s/epoch - 27ms/step\n",
            "Epoch 90/100\n",
            "207/207 - 6s - loss: -1.3366e+05 - recall: 0.7479 - auc: 0.8317 - val_loss: -1.3377e+05 - val_recall: 0.7827 - val_auc: 0.8477 - 6s/epoch - 27ms/step\n",
            "Epoch 91/100\n",
            "207/207 - 6s - loss: -1.3366e+05 - recall: 0.7457 - auc: 0.8312 - val_loss: -1.3687e+05 - val_recall: 0.7627 - val_auc: 0.8348 - 6s/epoch - 27ms/step\n",
            "Epoch 92/100\n",
            "207/207 - 6s - loss: -1.3372e+05 - recall: 0.7473 - auc: 0.8316 - val_loss: -1.3475e+05 - val_recall: 0.7348 - val_auc: 0.8058 - 6s/epoch - 27ms/step\n",
            "Epoch 93/100\n",
            "207/207 - 6s - loss: -1.3368e+05 - recall: 0.7517 - auc: 0.8335 - val_loss: -1.2783e+05 - val_recall: 0.8147 - val_auc: 0.8702 - 6s/epoch - 27ms/step\n",
            "Epoch 94/100\n",
            "207/207 - 6s - loss: -1.3369e+05 - recall: 0.7499 - auc: 0.8315 - val_loss: -1.3547e+05 - val_recall: 0.7101 - val_auc: 0.7835 - 6s/epoch - 27ms/step\n",
            "Epoch 95/100\n",
            "207/207 - 6s - loss: -1.3379e+05 - recall: 0.7456 - auc: 0.8305 - val_loss: -1.3186e+05 - val_recall: 0.7879 - val_auc: 0.8501 - 6s/epoch - 27ms/step\n",
            "Epoch 96/100\n",
            "207/207 - 6s - loss: -1.3375e+05 - recall: 0.7444 - auc: 0.8315 - val_loss: -1.3527e+05 - val_recall: 0.6181 - val_auc: 0.7191 - 6s/epoch - 27ms/step\n",
            "Epoch 97/100\n",
            "207/207 - 6s - loss: -1.3378e+05 - recall: 0.7431 - auc: 0.8293 - val_loss: -1.3302e+05 - val_recall: 0.7582 - val_auc: 0.8242 - 6s/epoch - 27ms/step\n",
            "Epoch 98/100\n",
            "207/207 - 6s - loss: -1.3376e+05 - recall: 0.7475 - auc: 0.8321 - val_loss: -1.3494e+05 - val_recall: 0.7557 - val_auc: 0.8216 - 6s/epoch - 27ms/step\n",
            "Epoch 99/100\n",
            "207/207 - 6s - loss: -1.3391e+05 - recall: 0.7462 - auc: 0.8312 - val_loss: -1.3312e+05 - val_recall: 0.7578 - val_auc: 0.8266 - 6s/epoch - 27ms/step\n",
            "Epoch 100/100\n",
            "207/207 - 6s - loss: -1.3377e+05 - recall: 0.7462 - auc: 0.8320 - val_loss: -1.3540e+05 - val_recall: 0.7609 - val_auc: 0.8324 - 6s/epoch - 27ms/step\n"
          ]
        }
      ],
      "source": [
        "autoencoder.compile(optimizer='adam', loss=weighted_cross_entropy,\n",
        "                    metrics=[tf.keras.metrics.Recall(),tf.keras.metrics.AUC()])\n",
        "\n",
        "\n",
        "# autoencoder.fit({inputs[:,:,:,0:1]},labels)\n",
        "# autoencoder.fit({inputs[:,:,:,0:1]},labels).\n",
        "def dataProcess(data):\n",
        "  k = []\n",
        "  for i in range(12):\n",
        "    k.append(data[:,:,:,i:i+1])\n",
        "  return k\n",
        "\n",
        "\n",
        "k = dataProcess(inputs)\n",
        "\n",
        "mod_x_test = dataProcess(x_test)\n",
        "history_1 = autoencoder.fit(\n",
        "            k, y_train_encoded,\n",
        "            epochs=100,\n",
        "            validation_data = (mod_x_test,y_val_encoded),\n",
        "            batch_size=64,\n",
        "            verbose=2)\n",
        "\n",
        "# l = []\n",
        "# validation_data=(np.random.randn(12,100,32,32,1).tolist(),np.random.randn(100,32,32,1).tolist()),\n",
        "\n",
        "# for i in range(12):\n",
        "#   l.append(inputs[0,:,:,i])\n",
        "# l\n",
        "# # autoencoder.evaluate(l)\n",
        "# # plt.imshow(autoencoder.predict(k[0]))"
      ]
    },
    {
      "cell_type": "code",
      "execution_count": null,
      "metadata": {
        "colab": {
          "background_save": true
        },
        "id": "W19MJgUIgUCM",
        "outputId": "1f427459-f323-4525-cda2-0a57fdeed986"
      },
      "outputs": [
        {
          "data": {
            "text/plain": [
              "array([[[[0, 1, 0],\n",
              "         [0, 1, 0],\n",
              "         [0, 1, 0],\n",
              "         ...,\n",
              "         [0, 1, 0],\n",
              "         [0, 1, 0],\n",
              "         [0, 1, 0]],\n",
              "\n",
              "        [[0, 1, 0],\n",
              "         [0, 1, 0],\n",
              "         [0, 1, 0],\n",
              "         ...,\n",
              "         [0, 1, 0],\n",
              "         [0, 1, 0],\n",
              "         [0, 1, 0]],\n",
              "\n",
              "        [[0, 1, 0],\n",
              "         [0, 1, 0],\n",
              "         [0, 1, 0],\n",
              "         ...,\n",
              "         [0, 1, 0],\n",
              "         [0, 1, 0],\n",
              "         [0, 1, 0]],\n",
              "\n",
              "        ...,\n",
              "\n",
              "        [[0, 1, 0],\n",
              "         [0, 1, 0],\n",
              "         [0, 1, 0],\n",
              "         ...,\n",
              "         [0, 1, 0],\n",
              "         [0, 1, 0],\n",
              "         [0, 1, 0]],\n",
              "\n",
              "        [[0, 1, 0],\n",
              "         [0, 1, 0],\n",
              "         [0, 1, 0],\n",
              "         ...,\n",
              "         [0, 1, 0],\n",
              "         [0, 1, 0],\n",
              "         [0, 1, 0]],\n",
              "\n",
              "        [[0, 1, 0],\n",
              "         [0, 1, 0],\n",
              "         [0, 1, 0],\n",
              "         ...,\n",
              "         [0, 1, 0],\n",
              "         [0, 1, 0],\n",
              "         [0, 1, 0]]],\n",
              "\n",
              "\n",
              "       [[[0, 1, 0],\n",
              "         [0, 1, 0],\n",
              "         [0, 1, 0],\n",
              "         ...,\n",
              "         [0, 1, 0],\n",
              "         [0, 1, 0],\n",
              "         [0, 1, 0]],\n",
              "\n",
              "        [[0, 1, 0],\n",
              "         [0, 1, 0],\n",
              "         [0, 1, 0],\n",
              "         ...,\n",
              "         [0, 1, 0],\n",
              "         [0, 1, 0],\n",
              "         [0, 1, 0]],\n",
              "\n",
              "        [[0, 1, 0],\n",
              "         [0, 1, 0],\n",
              "         [0, 1, 0],\n",
              "         ...,\n",
              "         [0, 1, 0],\n",
              "         [0, 1, 0],\n",
              "         [0, 1, 0]],\n",
              "\n",
              "        ...,\n",
              "\n",
              "        [[0, 1, 0],\n",
              "         [0, 1, 0],\n",
              "         [0, 1, 0],\n",
              "         ...,\n",
              "         [0, 1, 0],\n",
              "         [0, 1, 0],\n",
              "         [0, 1, 0]],\n",
              "\n",
              "        [[0, 1, 0],\n",
              "         [0, 1, 0],\n",
              "         [0, 1, 0],\n",
              "         ...,\n",
              "         [0, 1, 0],\n",
              "         [0, 1, 0],\n",
              "         [0, 1, 0]],\n",
              "\n",
              "        [[0, 1, 0],\n",
              "         [0, 1, 0],\n",
              "         [0, 1, 0],\n",
              "         ...,\n",
              "         [0, 1, 0],\n",
              "         [0, 1, 0],\n",
              "         [0, 1, 0]]],\n",
              "\n",
              "\n",
              "       [[[0, 1, 0],\n",
              "         [0, 1, 0],\n",
              "         [0, 1, 0],\n",
              "         ...,\n",
              "         [0, 1, 0],\n",
              "         [0, 1, 0],\n",
              "         [0, 1, 0]],\n",
              "\n",
              "        [[0, 1, 0],\n",
              "         [0, 1, 0],\n",
              "         [0, 1, 0],\n",
              "         ...,\n",
              "         [0, 1, 0],\n",
              "         [0, 1, 0],\n",
              "         [0, 1, 0]],\n",
              "\n",
              "        [[0, 1, 0],\n",
              "         [0, 1, 0],\n",
              "         [0, 1, 0],\n",
              "         ...,\n",
              "         [0, 1, 0],\n",
              "         [0, 1, 0],\n",
              "         [0, 1, 0]],\n",
              "\n",
              "        ...,\n",
              "\n",
              "        [[0, 1, 0],\n",
              "         [0, 1, 0],\n",
              "         [0, 1, 0],\n",
              "         ...,\n",
              "         [0, 1, 0],\n",
              "         [0, 1, 0],\n",
              "         [0, 1, 0]],\n",
              "\n",
              "        [[0, 1, 0],\n",
              "         [0, 1, 0],\n",
              "         [0, 1, 0],\n",
              "         ...,\n",
              "         [0, 1, 0],\n",
              "         [0, 1, 0],\n",
              "         [0, 1, 0]],\n",
              "\n",
              "        [[0, 1, 0],\n",
              "         [0, 1, 0],\n",
              "         [0, 1, 0],\n",
              "         ...,\n",
              "         [0, 1, 0],\n",
              "         [0, 1, 0],\n",
              "         [0, 1, 0]]],\n",
              "\n",
              "\n",
              "       ...,\n",
              "\n",
              "\n",
              "       [[[0, 1, 0],\n",
              "         [0, 1, 0],\n",
              "         [0, 1, 0],\n",
              "         ...,\n",
              "         [0, 1, 0],\n",
              "         [0, 1, 0],\n",
              "         [0, 1, 0]],\n",
              "\n",
              "        [[0, 1, 0],\n",
              "         [0, 1, 0],\n",
              "         [0, 1, 0],\n",
              "         ...,\n",
              "         [0, 1, 0],\n",
              "         [0, 1, 0],\n",
              "         [0, 1, 0]],\n",
              "\n",
              "        [[0, 1, 0],\n",
              "         [0, 1, 0],\n",
              "         [0, 1, 0],\n",
              "         ...,\n",
              "         [0, 1, 0],\n",
              "         [0, 1, 0],\n",
              "         [0, 1, 0]],\n",
              "\n",
              "        ...,\n",
              "\n",
              "        [[1, 0, 0],\n",
              "         [1, 0, 0],\n",
              "         [1, 0, 0],\n",
              "         ...,\n",
              "         [0, 1, 0],\n",
              "         [0, 1, 0],\n",
              "         [0, 1, 0]],\n",
              "\n",
              "        [[1, 0, 0],\n",
              "         [1, 0, 0],\n",
              "         [1, 0, 0],\n",
              "         ...,\n",
              "         [0, 1, 0],\n",
              "         [0, 1, 0],\n",
              "         [0, 1, 0]],\n",
              "\n",
              "        [[1, 0, 0],\n",
              "         [1, 0, 0],\n",
              "         [1, 0, 0],\n",
              "         ...,\n",
              "         [0, 1, 0],\n",
              "         [0, 1, 0],\n",
              "         [0, 1, 0]]],\n",
              "\n",
              "\n",
              "       [[[0, 1, 0],\n",
              "         [0, 1, 0],\n",
              "         [0, 1, 0],\n",
              "         ...,\n",
              "         [0, 1, 0],\n",
              "         [0, 1, 0],\n",
              "         [0, 1, 0]],\n",
              "\n",
              "        [[0, 1, 0],\n",
              "         [0, 1, 0],\n",
              "         [0, 1, 0],\n",
              "         ...,\n",
              "         [0, 1, 0],\n",
              "         [0, 1, 0],\n",
              "         [0, 1, 0]],\n",
              "\n",
              "        [[0, 1, 0],\n",
              "         [0, 1, 0],\n",
              "         [0, 1, 0],\n",
              "         ...,\n",
              "         [0, 1, 0],\n",
              "         [0, 1, 0],\n",
              "         [0, 1, 0]],\n",
              "\n",
              "        ...,\n",
              "\n",
              "        [[0, 1, 0],\n",
              "         [0, 1, 0],\n",
              "         [0, 1, 0],\n",
              "         ...,\n",
              "         [0, 1, 0],\n",
              "         [0, 1, 0],\n",
              "         [0, 1, 0]],\n",
              "\n",
              "        [[0, 1, 0],\n",
              "         [0, 1, 0],\n",
              "         [0, 1, 0],\n",
              "         ...,\n",
              "         [0, 1, 0],\n",
              "         [0, 1, 0],\n",
              "         [0, 1, 0]],\n",
              "\n",
              "        [[0, 1, 0],\n",
              "         [0, 1, 0],\n",
              "         [0, 1, 0],\n",
              "         ...,\n",
              "         [0, 1, 0],\n",
              "         [0, 1, 0],\n",
              "         [0, 1, 0]]],\n",
              "\n",
              "\n",
              "       [[[0, 1, 0],\n",
              "         [0, 1, 0],\n",
              "         [0, 1, 0],\n",
              "         ...,\n",
              "         [0, 1, 0],\n",
              "         [0, 1, 0],\n",
              "         [0, 1, 0]],\n",
              "\n",
              "        [[0, 1, 0],\n",
              "         [0, 1, 0],\n",
              "         [0, 1, 0],\n",
              "         ...,\n",
              "         [0, 1, 0],\n",
              "         [0, 1, 0],\n",
              "         [0, 1, 0]],\n",
              "\n",
              "        [[0, 1, 0],\n",
              "         [0, 1, 0],\n",
              "         [0, 1, 0],\n",
              "         ...,\n",
              "         [0, 1, 0],\n",
              "         [0, 1, 0],\n",
              "         [0, 1, 0]],\n",
              "\n",
              "        ...,\n",
              "\n",
              "        [[0, 1, 0],\n",
              "         [0, 1, 0],\n",
              "         [0, 1, 0],\n",
              "         ...,\n",
              "         [0, 1, 0],\n",
              "         [0, 1, 0],\n",
              "         [0, 1, 0]],\n",
              "\n",
              "        [[0, 1, 0],\n",
              "         [0, 1, 0],\n",
              "         [0, 1, 0],\n",
              "         ...,\n",
              "         [0, 1, 0],\n",
              "         [0, 1, 0],\n",
              "         [0, 1, 0]],\n",
              "\n",
              "        [[0, 1, 0],\n",
              "         [0, 1, 0],\n",
              "         [0, 1, 0],\n",
              "         ...,\n",
              "         [0, 1, 0],\n",
              "         [0, 1, 0],\n",
              "         [0, 1, 0]]]])"
            ]
          },
          "execution_count": 77,
          "metadata": {},
          "output_type": "execute_result"
        }
      ],
      "source": [
        "y_val_encoded"
      ]
    },
    {
      "cell_type": "markdown",
      "metadata": {
        "id": "_zaWfVafvrv0"
      },
      "source": [
        "### Transfer Learning"
      ]
    },
    {
      "cell_type": "code",
      "execution_count": null,
      "metadata": {
        "id": "6bO1cp_elv1g"
      },
      "outputs": [],
      "source": [
        "input_arr = [] #size 12\n",
        "for i in range(12):\n",
        "  input_arr.append(Input(shape=(32, 32, 1)))\n",
        "\n",
        "concate_input = tf.keras.layers.Concatenate()(input_arr)\n",
        "\n",
        "# get 3 feature maps with same size (32, 32)\n",
        "# pretrained models needs that\n",
        "input = tf.keras.layers.Conv2D(3, (3, 3), \n",
        "                     padding='same', activation=\"relu\")(concate_input)\n",
        "\n",
        "# pass that to imagenet model \n",
        "vg = tf.keras.applications.VGG16(weights=None,\n",
        "                                 include_top = False, \n",
        "                                 input_tensor = input)\n",
        "\n",
        "# do whatever \n",
        "relu = tf.keras.layers.Dense(32, activation='relu')(vg.output)\n",
        "den = tf.keras.layers.Dense(3, activation='softmax')(relu)\n",
        "\n",
        "# build the complete model \n",
        "TLmodel = tf.keras.Model(inputs=input_arr, outputs=den)"
      ]
    },
    {
      "cell_type": "code",
      "execution_count": null,
      "metadata": {
        "colab": {
          "background_save": true
        },
        "id": "s4ltzfVzwA40"
      },
      "outputs": [],
      "source": [
        "TLmodel.compile(optimizer='adam', loss=keras.losses.categorical_crossentropy, metrics=['accuracy'])"
      ]
    },
    {
      "cell_type": "code",
      "execution_count": null,
      "metadata": {
        "colab": {
          "background_save": true
        },
        "id": "C1E_VEQgwCvy",
        "outputId": "f1f9ef89-da2c-4c15-f2b5-0ad95d3088f6"
      },
      "outputs": [
        {
          "name": "stdout",
          "output_type": "stream",
          "text": [
            "Model: \"model_2\"\n",
            "__________________________________________________________________________________________________\n",
            " Layer (type)                   Output Shape         Param #     Connected to                     \n",
            "==================================================================================================\n",
            " input_13 (InputLayer)          [(None, 32, 32, 1)]  0           []                               \n",
            "                                                                                                  \n",
            " input_14 (InputLayer)          [(None, 32, 32, 1)]  0           []                               \n",
            "                                                                                                  \n",
            " input_15 (InputLayer)          [(None, 32, 32, 1)]  0           []                               \n",
            "                                                                                                  \n",
            " input_16 (InputLayer)          [(None, 32, 32, 1)]  0           []                               \n",
            "                                                                                                  \n",
            " input_17 (InputLayer)          [(None, 32, 32, 1)]  0           []                               \n",
            "                                                                                                  \n",
            " input_18 (InputLayer)          [(None, 32, 32, 1)]  0           []                               \n",
            "                                                                                                  \n",
            " input_19 (InputLayer)          [(None, 32, 32, 1)]  0           []                               \n",
            "                                                                                                  \n",
            " input_20 (InputLayer)          [(None, 32, 32, 1)]  0           []                               \n",
            "                                                                                                  \n",
            " input_21 (InputLayer)          [(None, 32, 32, 1)]  0           []                               \n",
            "                                                                                                  \n",
            " input_22 (InputLayer)          [(None, 32, 32, 1)]  0           []                               \n",
            "                                                                                                  \n",
            " input_23 (InputLayer)          [(None, 32, 32, 1)]  0           []                               \n",
            "                                                                                                  \n",
            " input_24 (InputLayer)          [(None, 32, 32, 1)]  0           []                               \n",
            "                                                                                                  \n",
            " concatenate_1 (Concatenate)    (None, 32, 32, 12)   0           ['input_13[0][0]',               \n",
            "                                                                  'input_14[0][0]',               \n",
            "                                                                  'input_15[0][0]',               \n",
            "                                                                  'input_16[0][0]',               \n",
            "                                                                  'input_17[0][0]',               \n",
            "                                                                  'input_18[0][0]',               \n",
            "                                                                  'input_19[0][0]',               \n",
            "                                                                  'input_20[0][0]',               \n",
            "                                                                  'input_21[0][0]',               \n",
            "                                                                  'input_22[0][0]',               \n",
            "                                                                  'input_23[0][0]',               \n",
            "                                                                  'input_24[0][0]']               \n",
            "                                                                                                  \n",
            " conv2d_27 (Conv2D)             (None, 32, 32, 3)    327         ['concatenate_1[0][0]']          \n",
            "                                                                                                  \n",
            " block1_conv1 (Conv2D)          (None, 32, 32, 64)   1792        ['conv2d_27[0][0]']              \n",
            "                                                                                                  \n",
            " block1_conv2 (Conv2D)          (None, 32, 32, 64)   36928       ['block1_conv1[0][0]']           \n",
            "                                                                                                  \n",
            " block1_pool (MaxPooling2D)     (None, 16, 16, 64)   0           ['block1_conv2[0][0]']           \n",
            "                                                                                                  \n",
            " block2_conv1 (Conv2D)          (None, 16, 16, 128)  73856       ['block1_pool[0][0]']            \n",
            "                                                                                                  \n",
            " block2_conv2 (Conv2D)          (None, 16, 16, 128)  147584      ['block2_conv1[0][0]']           \n",
            "                                                                                                  \n",
            " block2_pool (MaxPooling2D)     (None, 8, 8, 128)    0           ['block2_conv2[0][0]']           \n",
            "                                                                                                  \n",
            " block3_conv1 (Conv2D)          (None, 8, 8, 256)    295168      ['block2_pool[0][0]']            \n",
            "                                                                                                  \n",
            " block3_conv2 (Conv2D)          (None, 8, 8, 256)    590080      ['block3_conv1[0][0]']           \n",
            "                                                                                                  \n",
            " block3_conv3 (Conv2D)          (None, 8, 8, 256)    590080      ['block3_conv2[0][0]']           \n",
            "                                                                                                  \n",
            " block3_pool (MaxPooling2D)     (None, 4, 4, 256)    0           ['block3_conv3[0][0]']           \n",
            "                                                                                                  \n",
            " block4_conv1 (Conv2D)          (None, 4, 4, 512)    1180160     ['block3_pool[0][0]']            \n",
            "                                                                                                  \n",
            " block4_conv2 (Conv2D)          (None, 4, 4, 512)    2359808     ['block4_conv1[0][0]']           \n",
            "                                                                                                  \n",
            " block4_conv3 (Conv2D)          (None, 4, 4, 512)    2359808     ['block4_conv2[0][0]']           \n",
            "                                                                                                  \n",
            " block4_pool (MaxPooling2D)     (None, 2, 2, 512)    0           ['block4_conv3[0][0]']           \n",
            "                                                                                                  \n",
            " block5_conv1 (Conv2D)          (None, 2, 2, 512)    2359808     ['block4_pool[0][0]']            \n",
            "                                                                                                  \n",
            " block5_conv2 (Conv2D)          (None, 2, 2, 512)    2359808     ['block5_conv1[0][0]']           \n",
            "                                                                                                  \n",
            " block5_conv3 (Conv2D)          (None, 2, 2, 512)    2359808     ['block5_conv2[0][0]']           \n",
            "                                                                                                  \n",
            " block5_pool (MaxPooling2D)     (None, 1, 1, 512)    0           ['block5_conv3[0][0]']           \n",
            "                                                                                                  \n",
            " dense_1 (Dense)                (None, 1, 1, 32)     16416       ['block5_pool[0][0]']            \n",
            "                                                                                                  \n",
            " dense_2 (Dense)                (None, 1, 1, 3)      99          ['dense_1[0][0]']                \n",
            "                                                                                                  \n",
            "==================================================================================================\n",
            "Total params: 14,731,530\n",
            "Trainable params: 14,731,530\n",
            "Non-trainable params: 0\n",
            "__________________________________________________________________________________________________\n"
          ]
        }
      ],
      "source": [
        "TLmodel.summary()"
      ]
    },
    {
      "cell_type": "markdown",
      "metadata": {
        "id": "_b04w-lwpmMG"
      },
      "source": [
        "#### Training"
      ]
    },
    {
      "cell_type": "code",
      "execution_count": null,
      "metadata": {
        "colab": {
          "background_save": true
        },
        "id": "9vXuaBiYrldH"
      },
      "outputs": [],
      "source": [
        "from sklearn.preprocessing import LabelBinarizer\n",
        "enc = LabelBinarizer()\n",
        "labels1 = labels.numpy()\n",
        "y_train_encoded = enc.fit_transform(labels1.flatten())\n",
        "y_val_encoded=enc.transform(y_test.numpy().flatten())\n",
        "\n",
        "y_train_encoded = y_train_encoded.reshape(train_batch,32,32,3)\n",
        "\n",
        "def dataProcess(data):\n",
        "  k = []\n",
        "  for i in range(12):\n",
        "    k.append(data[:,:,:,i:i+1])\n",
        "  return k\n",
        "\n",
        "\n",
        "k = dataProcess(inputs)\n",
        "\n",
        "mod_x_test = dataProcess(x_test)"
      ]
    },
    {
      "cell_type": "code",
      "execution_count": null,
      "metadata": {
        "colab": {
          "background_save": true
        },
        "id": "3DBgN53CwEsz",
        "outputId": "b8739f69-b884-47fb-c96c-2bcadb32183b"
      },
      "outputs": [
        {
          "name": "stdout",
          "output_type": "stream",
          "text": [
            "Epoch 1/100\n"
          ]
        },
        {
          "ename": "ValueError",
          "evalue": "ignored",
          "output_type": "error",
          "traceback": [
            "\u001b[0;31m---------------------------------------------------------------------------\u001b[0m",
            "\u001b[0;31mValueError\u001b[0m                                Traceback (most recent call last)",
            "\u001b[0;32m<ipython-input-82-d4faab4e83be>\u001b[0m in \u001b[0;36m<module>\u001b[0;34m()\u001b[0m\n\u001b[1;32m      4\u001b[0m             \u001b[0mvalidation_data\u001b[0m \u001b[0;34m=\u001b[0m \u001b[0;34m(\u001b[0m\u001b[0mmod_x_test\u001b[0m\u001b[0;34m,\u001b[0m\u001b[0my_val_encoded\u001b[0m\u001b[0;34m)\u001b[0m\u001b[0;34m,\u001b[0m\u001b[0;34m\u001b[0m\u001b[0;34m\u001b[0m\u001b[0m\n\u001b[1;32m      5\u001b[0m             \u001b[0mbatch_size\u001b[0m\u001b[0;34m=\u001b[0m\u001b[0;36m64\u001b[0m\u001b[0;34m,\u001b[0m\u001b[0;34m\u001b[0m\u001b[0;34m\u001b[0m\u001b[0m\n\u001b[0;32m----> 6\u001b[0;31m             verbose=2)\n\u001b[0m",
            "\u001b[0;32m/usr/local/lib/python3.7/dist-packages/keras/utils/traceback_utils.py\u001b[0m in \u001b[0;36merror_handler\u001b[0;34m(*args, **kwargs)\u001b[0m\n\u001b[1;32m     65\u001b[0m     \u001b[0;32mexcept\u001b[0m \u001b[0mException\u001b[0m \u001b[0;32mas\u001b[0m \u001b[0me\u001b[0m\u001b[0;34m:\u001b[0m  \u001b[0;31m# pylint: disable=broad-except\u001b[0m\u001b[0;34m\u001b[0m\u001b[0;34m\u001b[0m\u001b[0m\n\u001b[1;32m     66\u001b[0m       \u001b[0mfiltered_tb\u001b[0m \u001b[0;34m=\u001b[0m \u001b[0m_process_traceback_frames\u001b[0m\u001b[0;34m(\u001b[0m\u001b[0me\u001b[0m\u001b[0;34m.\u001b[0m\u001b[0m__traceback__\u001b[0m\u001b[0;34m)\u001b[0m\u001b[0;34m\u001b[0m\u001b[0;34m\u001b[0m\u001b[0m\n\u001b[0;32m---> 67\u001b[0;31m       \u001b[0;32mraise\u001b[0m \u001b[0me\u001b[0m\u001b[0;34m.\u001b[0m\u001b[0mwith_traceback\u001b[0m\u001b[0;34m(\u001b[0m\u001b[0mfiltered_tb\u001b[0m\u001b[0;34m)\u001b[0m \u001b[0;32mfrom\u001b[0m \u001b[0;32mNone\u001b[0m\u001b[0;34m\u001b[0m\u001b[0;34m\u001b[0m\u001b[0m\n\u001b[0m\u001b[1;32m     68\u001b[0m     \u001b[0;32mfinally\u001b[0m\u001b[0;34m:\u001b[0m\u001b[0;34m\u001b[0m\u001b[0;34m\u001b[0m\u001b[0m\n\u001b[1;32m     69\u001b[0m       \u001b[0;32mdel\u001b[0m \u001b[0mfiltered_tb\u001b[0m\u001b[0;34m\u001b[0m\u001b[0;34m\u001b[0m\u001b[0m\n",
            "\u001b[0;32m/usr/local/lib/python3.7/dist-packages/tensorflow/python/framework/func_graph.py\u001b[0m in \u001b[0;36mautograph_handler\u001b[0;34m(*args, **kwargs)\u001b[0m\n\u001b[1;32m   1145\u001b[0m           \u001b[0;32mexcept\u001b[0m \u001b[0mException\u001b[0m \u001b[0;32mas\u001b[0m \u001b[0me\u001b[0m\u001b[0;34m:\u001b[0m  \u001b[0;31m# pylint:disable=broad-except\u001b[0m\u001b[0;34m\u001b[0m\u001b[0;34m\u001b[0m\u001b[0m\n\u001b[1;32m   1146\u001b[0m             \u001b[0;32mif\u001b[0m \u001b[0mhasattr\u001b[0m\u001b[0;34m(\u001b[0m\u001b[0me\u001b[0m\u001b[0;34m,\u001b[0m \u001b[0;34m\"ag_error_metadata\"\u001b[0m\u001b[0;34m)\u001b[0m\u001b[0;34m:\u001b[0m\u001b[0;34m\u001b[0m\u001b[0;34m\u001b[0m\u001b[0m\n\u001b[0;32m-> 1147\u001b[0;31m               \u001b[0;32mraise\u001b[0m \u001b[0me\u001b[0m\u001b[0;34m.\u001b[0m\u001b[0mag_error_metadata\u001b[0m\u001b[0;34m.\u001b[0m\u001b[0mto_exception\u001b[0m\u001b[0;34m(\u001b[0m\u001b[0me\u001b[0m\u001b[0;34m)\u001b[0m\u001b[0;34m\u001b[0m\u001b[0;34m\u001b[0m\u001b[0m\n\u001b[0m\u001b[1;32m   1148\u001b[0m             \u001b[0;32melse\u001b[0m\u001b[0;34m:\u001b[0m\u001b[0;34m\u001b[0m\u001b[0;34m\u001b[0m\u001b[0m\n\u001b[1;32m   1149\u001b[0m               \u001b[0;32mraise\u001b[0m\u001b[0;34m\u001b[0m\u001b[0;34m\u001b[0m\u001b[0m\n",
            "\u001b[0;31mValueError\u001b[0m: in user code:\n\n    File \"/usr/local/lib/python3.7/dist-packages/keras/engine/training.py\", line 1021, in train_function  *\n        return step_function(self, iterator)\n    File \"/usr/local/lib/python3.7/dist-packages/keras/engine/training.py\", line 1010, in step_function  **\n        outputs = model.distribute_strategy.run(run_step, args=(data,))\n    File \"/usr/local/lib/python3.7/dist-packages/keras/engine/training.py\", line 1000, in run_step  **\n        outputs = model.train_step(data)\n    File \"/usr/local/lib/python3.7/dist-packages/keras/engine/training.py\", line 860, in train_step\n        loss = self.compute_loss(x, y, y_pred, sample_weight)\n    File \"/usr/local/lib/python3.7/dist-packages/keras/engine/training.py\", line 919, in compute_loss\n        y, y_pred, sample_weight, regularization_losses=self.losses)\n    File \"/usr/local/lib/python3.7/dist-packages/keras/engine/compile_utils.py\", line 201, in __call__\n        loss_value = loss_obj(y_t, y_p, sample_weight=sw)\n    File \"/usr/local/lib/python3.7/dist-packages/keras/losses.py\", line 141, in __call__\n        losses = call_fn(y_true, y_pred)\n    File \"/usr/local/lib/python3.7/dist-packages/keras/losses.py\", line 245, in call  **\n        return ag_fn(y_true, y_pred, **self._fn_kwargs)\n    File \"/usr/local/lib/python3.7/dist-packages/keras/losses.py\", line 1790, in categorical_crossentropy\n        y_true, y_pred, from_logits=from_logits, axis=axis)\n    File \"/usr/local/lib/python3.7/dist-packages/keras/backend.py\", line 5083, in categorical_crossentropy\n        target.shape.assert_is_compatible_with(output.shape)\n\n    ValueError: Shapes (None, 32, 32, 1) and (None, 1, 1, 3) are incompatible\n"
          ]
        }
      ],
      "source": [
        "history_2 = TLmodel.fit(\n",
        "            k, labels,\n",
        "            epochs=100,\n",
        "            validation_data = (mod_x_test,y_val_encoded),\n",
        "            batch_size=64,\n",
        "            verbose=2)"
      ]
    },
    {
      "cell_type": "markdown",
      "metadata": {
        "id": "RWns7hn67pHC"
      },
      "source": [
        "## Evaluation Visualizations"
      ]
    },
    {
      "cell_type": "code",
      "execution_count": null,
      "metadata": {
        "colab": {
          "background_save": true
        },
        "id": "CfInC4rF7vMg"
      },
      "outputs": [],
      "source": [
        "from matplotlib import pyplot as plt\n",
        "from matplotlib.pyplot import figure\n",
        "a,b = 18,0"
      ]
    },
    {
      "cell_type": "markdown",
      "metadata": {
        "id": "gOY1TEko6eae"
      },
      "source": [
        "### Train Predictions"
      ]
    },
    {
      "cell_type": "code",
      "execution_count": null,
      "metadata": {
        "colab": {
          "background_save": true
        },
        "id": "b1t-sUdZ6iRc"
      },
      "outputs": [],
      "source": [
        "var1 = autoencoder.predict(k)\n",
        "var1"
      ]
    },
    {
      "cell_type": "code",
      "execution_count": null,
      "metadata": {
        "colab": {
          "background_save": true
        },
        "id": "Syxh63DxQ4ul"
      },
      "outputs": [],
      "source": [
        "var2 = np.random.randn(var1.shape[0],var1.shape[1],var1.shape[2],1)\n",
        "for i in range(var1.shape[0]):\n",
        "  for j in range(var1.shape[1]):\n",
        "    for k in range(var1.shape[2]):\n",
        "      max = -100\n",
        "      index = 1\n",
        "      for a in range(var1.shape[3]):\n",
        "        if (var1[i,j,k,a] > max):\n",
        "          max = var1[i,j,k,a]\n",
        "          index = a\n",
        "      var2[i,j,k,0] = index-1\n",
        "np.min(var2)"
      ]
    },
    {
      "cell_type": "code",
      "execution_count": null,
      "metadata": {
        "colab": {
          "background_save": true
        },
        "id": "BmHcepOaSXjE"
      },
      "outputs": [],
      "source": [
        "var2       \n"
      ]
    },
    {
      "cell_type": "code",
      "execution_count": null,
      "metadata": {
        "colab": {
          "background_save": true
        },
        "id": "GhdJDdPMR7QT"
      },
      "outputs": [],
      "source": [
        "labels.shape"
      ]
    },
    {
      "cell_type": "code",
      "execution_count": null,
      "metadata": {
        "colab": {
          "background_save": true
        },
        "id": "sTPN7PfVTG_A"
      },
      "outputs": [],
      "source": [
        "np.reshape(var2, (13200,32,32,1))\n",
        "var2.shape"
      ]
    },
    {
      "cell_type": "code",
      "execution_count": null,
      "metadata": {
        "colab": {
          "background_save": true
        },
        "id": "T1N5vXvM9zip"
      },
      "outputs": [],
      "source": [
        "fig1, ax1 = plt.subplots(2,1)\n",
        "ax1[0].imshow(var2[a,:,:,0],cmap=CMAP,norm=NORM)\n",
        "ax1[1].imshow(labels[a,:,:,0],cmap=CMAP,norm=NORM)\n"
      ]
    },
    {
      "cell_type": "code",
      "execution_count": null,
      "metadata": {
        "colab": {
          "background_save": true
        },
        "id": "n07itI9l6iO6"
      },
      "outputs": [],
      "source": [
        "fig_tr,ax_tr = plt.subplots(nrows = 2, ncols=10,sharex=True)\n",
        "figure(figsize=(40, 40), dpi=80)\n",
        "for i in range(10):\n",
        "  ax_tr[0][i].imshow(var2[i,:,:,b],cmap=CMAP,norm=NORM)\n",
        "  ax_tr[1][i].imshow(labels[i,:,:,b],cmap=CMAP,norm=NORM)"
      ]
    },
    {
      "cell_type": "code",
      "execution_count": null,
      "metadata": {
        "colab": {
          "background_save": true
        },
        "id": "gufpMrAq4jRY"
      },
      "outputs": [],
      "source": [
        "accuracy = autoencoder.evaluate(mod_x_test, y_val_encoded, verbose=1)\n",
        "\n"
      ]
    },
    {
      "cell_type": "code",
      "execution_count": null,
      "metadata": {
        "colab": {
          "background_save": true
        },
        "id": "TPqfp9535dxS"
      },
      "outputs": [],
      "source": [
        "# Here we would get the output as probablities for each category\n",
        "y_pred=autoencoder.predict(mod_x_test)"
      ]
    },
    {
      "cell_type": "code",
      "execution_count": null,
      "metadata": {
        "id": "mK1xrsPQKBMP"
      },
      "outputs": [],
      "source": [
        "var1"
      ]
    },
    {
      "cell_type": "markdown",
      "metadata": {
        "id": "xhMTfxSpLnid"
      },
      "source": [
        "Confusion matrix"
      ]
    },
    {
      "cell_type": "code",
      "execution_count": null,
      "metadata": {
        "id": "Rwvy9_6BL2Qa"
      },
      "outputs": [],
      "source": [
        "y_pred_arg=np.argmax(var1,axis=1)\n",
        "y_val_encoded.shape"
      ]
    },
    {
      "cell_type": "code",
      "execution_count": null,
      "metadata": {
        "id": "U1iz7QCaP5su"
      },
      "outputs": [],
      "source": [
        "x_test.shape"
      ]
    },
    {
      "cell_type": "code",
      "execution_count": null,
      "metadata": {
        "id": "jGW6s9a55h6O"
      },
      "outputs": [],
      "source": [
        "# # Plotting the Confusion Matrix using confusion matrix() function which is also predefined tensorflow module\n",
        "# # Obtaining the categorical values from y_test_encoded and y_pred\n",
        "# y_pred_arg=np.argmax(var2,axis=0)\n",
        "# y_test_arg=np.argmax(y_test,axis=0)\n",
        "\n",
        "# confusion_matrix = tf.math.confusion_matrix(var2,y_test_arg)\n",
        "# f, ax = plt.subplots(figsize=(10, 8))\n",
        "# sns.heatmap(\n",
        "#     confusion_matrix,\n",
        "#     annot=True,\n",
        "#     linewidths=.4,\n",
        "#     fmt=\"d\",\n",
        "#     square=True,\n",
        "#     ax=ax\n",
        "# )\n",
        "# plt.show()\n"
      ]
    },
    {
      "cell_type": "code",
      "execution_count": null,
      "metadata": {
        "id": "uLqwtK3LCueL"
      },
      "outputs": [],
      "source": [
        "history_1.history.keys()"
      ]
    },
    {
      "cell_type": "code",
      "execution_count": null,
      "metadata": {
        "id": "otxTjhsG4cET"
      },
      "outputs": [],
      "source": [
        "plt.plot(history_1.history['loss'])\n",
        "plt.plot(history_1.history['val_loss'])\n",
        "plt.title('Model Loss')\n",
        "plt.ylabel('Loss')\n",
        "plt.xlabel('Epoch')\n",
        "plt.legend(['Train', 'Validation'], loc='upper left')\n",
        "plt.show()\n"
      ]
    },
    {
      "cell_type": "markdown",
      "metadata": {
        "id": "4X9N-bEc6bfV"
      },
      "source": [
        "### Test Predictions"
      ]
    },
    {
      "cell_type": "code",
      "execution_count": null,
      "metadata": {
        "id": "h7hpNiVd1ni5"
      },
      "outputs": [],
      "source": [
        "test_123 = dataProcess(x_test)\n",
        "var2 = autoencoder.predict(test_123)\n",
        "autoencoder.evaluate(test_123,y_val_encoded,verbose=1)"
      ]
    },
    {
      "cell_type": "code",
      "execution_count": null,
      "metadata": {
        "id": "9aUlxwWK48jX"
      },
      "outputs": [],
      "source": [
        "fig,ax = plt.subplots(nrows = 2, ncols=10,sharex=True)\n",
        "figure(figsize=(40, 40), dpi=80)\n",
        "for i in range(10):\n",
        "  ax[0][i].imshow(var2[i,:,:,b],cmap=CMAP,norm=NORM)\n",
        "  ax[1][i].imshow(y_test[i,:,:,b],cmap=CMAP,norm=NORM)\n",
        "\n",
        "plt.tight_layout()\n",
        "\n",
        "max = 0\n",
        "for i in np.abs(var1):\n",
        "  if(max<np.amax(i)):\n",
        "    max = np.amax(i)\n",
        "print(\"MAX:\", max)\n",
        "var1.shape"
      ]
    },
    {
      "cell_type": "code",
      "execution_count": null,
      "metadata": {
        "id": "WnnkhIu51PeD"
      },
      "outputs": [],
      "source": [
        "plt.imshow(labels[0,:,:,0])\n",
        "# labels[0,:,:,0]"
      ]
    },
    {
      "cell_type": "markdown",
      "metadata": {
        "id": "7LNwaycih6Uo"
      },
      "source": [
        "### Model Saving"
      ]
    },
    {
      "cell_type": "code",
      "execution_count": null,
      "metadata": {
        "id": "tHszk2qVAe5v"
      },
      "outputs": [],
      "source": [
        "# Saving the model for Future Inferences\n",
        "\n",
        "model_json = autoencoder.to_json()\n",
        "with open(\"model.json\", \"w\") as json_file:\n",
        "    json_file.write(model_json)\n",
        "# serialize weights to HDF5\n",
        "autoencoder.save_weights(\"model.h5\")"
      ]
    },
    {
      "cell_type": "code",
      "execution_count": null,
      "metadata": {
        "id": "gGBgZ-afAgZE"
      },
      "outputs": [],
      "source": [
        "# imports\n",
        "\n",
        "from keras import model_from_json \n",
        "\n",
        "# opening and store file in a variable\n",
        "\n",
        "json_file = open('model.json','r')\n",
        "loaded_model_json = json_file.read()\n",
        "json_file.close()\n",
        "\n",
        "# use Keras model_from_json to make a loaded model\n",
        "\n",
        "loaded_model = model_from_json(loaded_model_json)\n",
        "\n",
        "# load weights into new model\n",
        "\n",
        "loaded_model.load_weights(\"model.h5\")\n",
        "print(\"Loaded Model from disk\")\n",
        "\n",
        "# compile and evaluate loaded model\n",
        "\n",
        "loaded_model.compile(loss='categorical_crossentropy',optimizer='adam',metrics=['accuracy'])\n"
      ]
    },
    {
      "cell_type": "code",
      "execution_count": null,
      "metadata": {
        "id": "HX91_Mrdh9vd"
      },
      "outputs": [],
      "source": [
        "import pickle\n",
        "def pickleDump(model,name):\n",
        "  with open(name,'wb') as f:\n",
        "    pickle.dump(model,f)\n",
        "def pickleLoad(name):\n",
        "  with open(name,'rb') as f:\n",
        "    m = pickle.load(f)\n",
        "  return m\n",
        "\n",
        "pickleDump(autoencoder,\"autoencoder\")"
      ]
    },
    {
      "cell_type": "markdown",
      "metadata": {
        "id": "eMtBihEVWWxV"
      },
      "source": [
        "## Do not Touch"
      ]
    },
    {
      "cell_type": "markdown",
      "metadata": {
        "id": "uQ2dZNeu6B-L"
      },
      "source": [
        "##### Regression Training"
      ]
    },
    {
      "cell_type": "code",
      "execution_count": null,
      "metadata": {
        "id": "8_naAyAp6M6m"
      },
      "outputs": [],
      "source": [
        "labels_reg = 5 * labels\n",
        "y_test_reg = 5 * y_test\n",
        "np.min(labels1)"
      ]
    },
    {
      "cell_type": "code",
      "execution_count": null,
      "metadata": {
        "id": "-nK6PipyA5eY"
      },
      "outputs": [],
      "source": [
        "def dataProcess(data):\n",
        "  k = []\n",
        "  for i in range(12):\n",
        "    k.append(data[:,:,:,i:i+1])\n",
        "  return k\n",
        "k = dataProcess(inputs)\n",
        "mod_x_test = dataProcess(x_test)"
      ]
    },
    {
      "cell_type": "code",
      "execution_count": null,
      "metadata": {
        "id": "8a25Vn6i6EYe"
      },
      "outputs": [],
      "source": [
        "history_1 = autoencoder.fit(\n",
        "            k, labels,\n",
        "            epochs=300,\n",
        "            validation_data = (mod_x_test,y_test),\n",
        "            batch_size=12,\n",
        "            verbose=2)"
      ]
    }
  ],
  "metadata": {
    "accelerator": "GPU",
    "colab": {
      "collapsed_sections": [
        "uQ2dZNeu6B-L"
      ],
      "machine_shape": "hm",
      "name": "Data and Models.ipynb",
      "provenance": [],
      "include_colab_link": true
    },
    "gpuClass": "standard",
    "kernelspec": {
      "display_name": "Python 3",
      "name": "python3"
    },
    "language_info": {
      "name": "python"
    }
  },
  "nbformat": 4,
  "nbformat_minor": 0
}
